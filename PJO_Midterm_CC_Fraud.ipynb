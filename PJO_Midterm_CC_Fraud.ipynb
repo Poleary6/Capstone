{
 "cells": [
  {
   "cell_type": "markdown",
   "id": "0abe4dc5",
   "metadata": {},
   "source": [
    "Paul O'Leary\n",
    "\n",
    "Comp 4449\n",
    "\n",
    "Data Science Capstone\n",
    "\n",
    "Midterm\n",
    "\n",
    "Detecting Credit Card Fraud"
   ]
  },
  {
   "cell_type": "markdown",
   "id": "17719e1f",
   "metadata": {},
   "source": [
    "---------------------------\n",
    "\n",
    "In this project, various methods of handling imbalanced data will be examined.  Those methods will be put to the test by a variety of classification techniques, and the results will be discussed.\n",
    "\n",
    "Most of my time was focused on the different methods of balancing the data to make it more amenable to be classified.  I also began to spend time working with Outlier Detection approaches, using Isolation Forests, for example.  Those initial attempts are at the end of the code, but not discussed in the Presentation nor the Report.\n",
    "\n",
    "---------------------------"
   ]
  },
  {
   "cell_type": "markdown",
   "id": "d7619035",
   "metadata": {},
   "source": [
    "Information from the Kaggle Site, which is the source of the data:\n",
    "\n",
    "# Detecting Credit Card Fraud\n",
    "It is important that credit card companies are able to recognize fraudulent credit card transactions so that customers are not charged for items that they did not purchase. The datasets contains transactions made by credit cards in September 2013 by european cardholders. This dataset presents transactions that occurred in two days, where we have 492 frauds out of 284,807 transactions. The dataset is highly unbalanced, the positive class (frauds) account for 0.172% of all transactions. The goal of this project is to build a model able to recognize fraudulent credit card transactions. More info [here](https://www.kaggle.com/mlg-ulb/creditcardfraud)."
   ]
  },
  {
   "cell_type": "code",
   "execution_count": null,
   "id": "45e43898",
   "metadata": {},
   "outputs": [],
   "source": []
  },
  {
   "cell_type": "code",
   "execution_count": 2,
   "id": "f1f89c62",
   "metadata": {},
   "outputs": [],
   "source": [
    "# Import some base libraries.  More will be imported throughout the notebook.\n",
    "\n",
    "import pandas as pd\n",
    "import numpy as np\n",
    "import seaborn as sns\n",
    "import matplotlib.pyplot as plt\n",
    "\n",
    "import timeit\n",
    "\n",
    "from sklearn.model_selection import train_test_split\n",
    "from sklearn.model_selection import RandomizedSearchCV, GridSearchCV\n",
    "from sklearn.preprocessing import StandardScaler, MinMaxScaler"
   ]
  },
  {
   "cell_type": "code",
   "execution_count": 3,
   "id": "3c9c9480",
   "metadata": {},
   "outputs": [
    {
     "data": {
      "text/html": [
       "<div>\n",
       "<style scoped>\n",
       "    .dataframe tbody tr th:only-of-type {\n",
       "        vertical-align: middle;\n",
       "    }\n",
       "\n",
       "    .dataframe tbody tr th {\n",
       "        vertical-align: top;\n",
       "    }\n",
       "\n",
       "    .dataframe thead th {\n",
       "        text-align: right;\n",
       "    }\n",
       "</style>\n",
       "<table border=\"1\" class=\"dataframe\">\n",
       "  <thead>\n",
       "    <tr style=\"text-align: right;\">\n",
       "      <th></th>\n",
       "      <th>Time</th>\n",
       "      <th>V1</th>\n",
       "      <th>V2</th>\n",
       "      <th>V3</th>\n",
       "      <th>V4</th>\n",
       "      <th>V5</th>\n",
       "      <th>V6</th>\n",
       "      <th>V7</th>\n",
       "      <th>V8</th>\n",
       "      <th>V9</th>\n",
       "      <th>...</th>\n",
       "      <th>V21</th>\n",
       "      <th>V22</th>\n",
       "      <th>V23</th>\n",
       "      <th>V24</th>\n",
       "      <th>V25</th>\n",
       "      <th>V26</th>\n",
       "      <th>V27</th>\n",
       "      <th>V28</th>\n",
       "      <th>Amount</th>\n",
       "      <th>Class</th>\n",
       "    </tr>\n",
       "  </thead>\n",
       "  <tbody>\n",
       "    <tr>\n",
       "      <th>0</th>\n",
       "      <td>0.0</td>\n",
       "      <td>-1.359807</td>\n",
       "      <td>-0.072781</td>\n",
       "      <td>2.536347</td>\n",
       "      <td>1.378155</td>\n",
       "      <td>-0.338321</td>\n",
       "      <td>0.462388</td>\n",
       "      <td>0.239599</td>\n",
       "      <td>0.098698</td>\n",
       "      <td>0.363787</td>\n",
       "      <td>...</td>\n",
       "      <td>-0.018307</td>\n",
       "      <td>0.277838</td>\n",
       "      <td>-0.110474</td>\n",
       "      <td>0.066928</td>\n",
       "      <td>0.128539</td>\n",
       "      <td>-0.189115</td>\n",
       "      <td>0.133558</td>\n",
       "      <td>-0.021053</td>\n",
       "      <td>149.62</td>\n",
       "      <td>0</td>\n",
       "    </tr>\n",
       "    <tr>\n",
       "      <th>1</th>\n",
       "      <td>0.0</td>\n",
       "      <td>1.191857</td>\n",
       "      <td>0.266151</td>\n",
       "      <td>0.166480</td>\n",
       "      <td>0.448154</td>\n",
       "      <td>0.060018</td>\n",
       "      <td>-0.082361</td>\n",
       "      <td>-0.078803</td>\n",
       "      <td>0.085102</td>\n",
       "      <td>-0.255425</td>\n",
       "      <td>...</td>\n",
       "      <td>-0.225775</td>\n",
       "      <td>-0.638672</td>\n",
       "      <td>0.101288</td>\n",
       "      <td>-0.339846</td>\n",
       "      <td>0.167170</td>\n",
       "      <td>0.125895</td>\n",
       "      <td>-0.008983</td>\n",
       "      <td>0.014724</td>\n",
       "      <td>2.69</td>\n",
       "      <td>0</td>\n",
       "    </tr>\n",
       "    <tr>\n",
       "      <th>2</th>\n",
       "      <td>1.0</td>\n",
       "      <td>-1.358354</td>\n",
       "      <td>-1.340163</td>\n",
       "      <td>1.773209</td>\n",
       "      <td>0.379780</td>\n",
       "      <td>-0.503198</td>\n",
       "      <td>1.800499</td>\n",
       "      <td>0.791461</td>\n",
       "      <td>0.247676</td>\n",
       "      <td>-1.514654</td>\n",
       "      <td>...</td>\n",
       "      <td>0.247998</td>\n",
       "      <td>0.771679</td>\n",
       "      <td>0.909412</td>\n",
       "      <td>-0.689281</td>\n",
       "      <td>-0.327642</td>\n",
       "      <td>-0.139097</td>\n",
       "      <td>-0.055353</td>\n",
       "      <td>-0.059752</td>\n",
       "      <td>378.66</td>\n",
       "      <td>0</td>\n",
       "    </tr>\n",
       "    <tr>\n",
       "      <th>3</th>\n",
       "      <td>1.0</td>\n",
       "      <td>-0.966272</td>\n",
       "      <td>-0.185226</td>\n",
       "      <td>1.792993</td>\n",
       "      <td>-0.863291</td>\n",
       "      <td>-0.010309</td>\n",
       "      <td>1.247203</td>\n",
       "      <td>0.237609</td>\n",
       "      <td>0.377436</td>\n",
       "      <td>-1.387024</td>\n",
       "      <td>...</td>\n",
       "      <td>-0.108300</td>\n",
       "      <td>0.005274</td>\n",
       "      <td>-0.190321</td>\n",
       "      <td>-1.175575</td>\n",
       "      <td>0.647376</td>\n",
       "      <td>-0.221929</td>\n",
       "      <td>0.062723</td>\n",
       "      <td>0.061458</td>\n",
       "      <td>123.50</td>\n",
       "      <td>0</td>\n",
       "    </tr>\n",
       "    <tr>\n",
       "      <th>4</th>\n",
       "      <td>2.0</td>\n",
       "      <td>-1.158233</td>\n",
       "      <td>0.877737</td>\n",
       "      <td>1.548718</td>\n",
       "      <td>0.403034</td>\n",
       "      <td>-0.407193</td>\n",
       "      <td>0.095921</td>\n",
       "      <td>0.592941</td>\n",
       "      <td>-0.270533</td>\n",
       "      <td>0.817739</td>\n",
       "      <td>...</td>\n",
       "      <td>-0.009431</td>\n",
       "      <td>0.798278</td>\n",
       "      <td>-0.137458</td>\n",
       "      <td>0.141267</td>\n",
       "      <td>-0.206010</td>\n",
       "      <td>0.502292</td>\n",
       "      <td>0.219422</td>\n",
       "      <td>0.215153</td>\n",
       "      <td>69.99</td>\n",
       "      <td>0</td>\n",
       "    </tr>\n",
       "  </tbody>\n",
       "</table>\n",
       "<p>5 rows × 31 columns</p>\n",
       "</div>"
      ],
      "text/plain": [
       "   Time        V1        V2        V3        V4        V5        V6        V7  \\\n",
       "0   0.0 -1.359807 -0.072781  2.536347  1.378155 -0.338321  0.462388  0.239599   \n",
       "1   0.0  1.191857  0.266151  0.166480  0.448154  0.060018 -0.082361 -0.078803   \n",
       "2   1.0 -1.358354 -1.340163  1.773209  0.379780 -0.503198  1.800499  0.791461   \n",
       "3   1.0 -0.966272 -0.185226  1.792993 -0.863291 -0.010309  1.247203  0.237609   \n",
       "4   2.0 -1.158233  0.877737  1.548718  0.403034 -0.407193  0.095921  0.592941   \n",
       "\n",
       "         V8        V9  ...       V21       V22       V23       V24       V25  \\\n",
       "0  0.098698  0.363787  ... -0.018307  0.277838 -0.110474  0.066928  0.128539   \n",
       "1  0.085102 -0.255425  ... -0.225775 -0.638672  0.101288 -0.339846  0.167170   \n",
       "2  0.247676 -1.514654  ...  0.247998  0.771679  0.909412 -0.689281 -0.327642   \n",
       "3  0.377436 -1.387024  ... -0.108300  0.005274 -0.190321 -1.175575  0.647376   \n",
       "4 -0.270533  0.817739  ... -0.009431  0.798278 -0.137458  0.141267 -0.206010   \n",
       "\n",
       "        V26       V27       V28  Amount  Class  \n",
       "0 -0.189115  0.133558 -0.021053  149.62      0  \n",
       "1  0.125895 -0.008983  0.014724    2.69      0  \n",
       "2 -0.139097 -0.055353 -0.059752  378.66      0  \n",
       "3 -0.221929  0.062723  0.061458  123.50      0  \n",
       "4  0.502292  0.219422  0.215153   69.99      0  \n",
       "\n",
       "[5 rows x 31 columns]"
      ]
     },
     "execution_count": 3,
     "metadata": {},
     "output_type": "execute_result"
    }
   ],
   "source": [
    "# Import the data.\n",
    "\n",
    "trans_a = pd.read_csv(\"https://raw.githubusercontent.com/emmanueliarussi/DataScienceCapstone/master/3_MidtermProjects/ProjectCCF/data/creditcard_a.csv\")\n",
    "trans_a.head()"
   ]
  },
  {
   "cell_type": "code",
   "execution_count": 4,
   "id": "b8a2d699",
   "metadata": {},
   "outputs": [
    {
     "data": {
      "text/html": [
       "<div>\n",
       "<style scoped>\n",
       "    .dataframe tbody tr th:only-of-type {\n",
       "        vertical-align: middle;\n",
       "    }\n",
       "\n",
       "    .dataframe tbody tr th {\n",
       "        vertical-align: top;\n",
       "    }\n",
       "\n",
       "    .dataframe thead th {\n",
       "        text-align: right;\n",
       "    }\n",
       "</style>\n",
       "<table border=\"1\" class=\"dataframe\">\n",
       "  <thead>\n",
       "    <tr style=\"text-align: right;\">\n",
       "      <th></th>\n",
       "      <th>Time</th>\n",
       "      <th>V1</th>\n",
       "      <th>V2</th>\n",
       "      <th>V3</th>\n",
       "      <th>V4</th>\n",
       "      <th>V5</th>\n",
       "      <th>V6</th>\n",
       "      <th>V7</th>\n",
       "      <th>V8</th>\n",
       "      <th>V9</th>\n",
       "      <th>...</th>\n",
       "      <th>V21</th>\n",
       "      <th>V22</th>\n",
       "      <th>V23</th>\n",
       "      <th>V24</th>\n",
       "      <th>V25</th>\n",
       "      <th>V26</th>\n",
       "      <th>V27</th>\n",
       "      <th>V28</th>\n",
       "      <th>Amount</th>\n",
       "      <th>Class</th>\n",
       "    </tr>\n",
       "  </thead>\n",
       "  <tbody>\n",
       "    <tr>\n",
       "      <th>96541</th>\n",
       "      <td>172786</td>\n",
       "      <td>-11.881118</td>\n",
       "      <td>10.071785</td>\n",
       "      <td>-9.834783</td>\n",
       "      <td>-2.066656</td>\n",
       "      <td>-5.364473</td>\n",
       "      <td>-2.606837</td>\n",
       "      <td>-4.918215</td>\n",
       "      <td>7.305334</td>\n",
       "      <td>1.914428</td>\n",
       "      <td>...</td>\n",
       "      <td>0.213454</td>\n",
       "      <td>0.111864</td>\n",
       "      <td>1.014480</td>\n",
       "      <td>-0.509348</td>\n",
       "      <td>1.436807</td>\n",
       "      <td>0.250034</td>\n",
       "      <td>0.943651</td>\n",
       "      <td>0.823731</td>\n",
       "      <td>0.77</td>\n",
       "      <td>0</td>\n",
       "    </tr>\n",
       "    <tr>\n",
       "      <th>96542</th>\n",
       "      <td>172787</td>\n",
       "      <td>-0.732789</td>\n",
       "      <td>-0.055080</td>\n",
       "      <td>2.035030</td>\n",
       "      <td>-0.738589</td>\n",
       "      <td>0.868229</td>\n",
       "      <td>1.058415</td>\n",
       "      <td>0.024330</td>\n",
       "      <td>0.294869</td>\n",
       "      <td>0.584800</td>\n",
       "      <td>...</td>\n",
       "      <td>0.214205</td>\n",
       "      <td>0.924384</td>\n",
       "      <td>0.012463</td>\n",
       "      <td>-1.016226</td>\n",
       "      <td>-0.606624</td>\n",
       "      <td>-0.395255</td>\n",
       "      <td>0.068472</td>\n",
       "      <td>-0.053527</td>\n",
       "      <td>24.79</td>\n",
       "      <td>0</td>\n",
       "    </tr>\n",
       "    <tr>\n",
       "      <th>96543</th>\n",
       "      <td>172788</td>\n",
       "      <td>1.919565</td>\n",
       "      <td>-0.301254</td>\n",
       "      <td>-3.249640</td>\n",
       "      <td>-0.557828</td>\n",
       "      <td>2.630515</td>\n",
       "      <td>3.031260</td>\n",
       "      <td>-0.296827</td>\n",
       "      <td>0.708417</td>\n",
       "      <td>0.432454</td>\n",
       "      <td>...</td>\n",
       "      <td>0.232045</td>\n",
       "      <td>0.578229</td>\n",
       "      <td>-0.037501</td>\n",
       "      <td>0.640134</td>\n",
       "      <td>0.265745</td>\n",
       "      <td>-0.087371</td>\n",
       "      <td>0.004455</td>\n",
       "      <td>-0.026561</td>\n",
       "      <td>67.88</td>\n",
       "      <td>0</td>\n",
       "    </tr>\n",
       "    <tr>\n",
       "      <th>96544</th>\n",
       "      <td>172788</td>\n",
       "      <td>-0.240440</td>\n",
       "      <td>0.530483</td>\n",
       "      <td>0.702510</td>\n",
       "      <td>0.689799</td>\n",
       "      <td>-0.377961</td>\n",
       "      <td>0.623708</td>\n",
       "      <td>-0.686180</td>\n",
       "      <td>0.679145</td>\n",
       "      <td>0.392087</td>\n",
       "      <td>...</td>\n",
       "      <td>0.265245</td>\n",
       "      <td>0.800049</td>\n",
       "      <td>-0.163298</td>\n",
       "      <td>0.123205</td>\n",
       "      <td>-0.569159</td>\n",
       "      <td>0.546668</td>\n",
       "      <td>0.108821</td>\n",
       "      <td>0.104533</td>\n",
       "      <td>10.00</td>\n",
       "      <td>0</td>\n",
       "    </tr>\n",
       "    <tr>\n",
       "      <th>96545</th>\n",
       "      <td>172792</td>\n",
       "      <td>-0.533413</td>\n",
       "      <td>-0.189733</td>\n",
       "      <td>0.703337</td>\n",
       "      <td>-0.506271</td>\n",
       "      <td>-0.012546</td>\n",
       "      <td>-0.649617</td>\n",
       "      <td>1.577006</td>\n",
       "      <td>-0.414650</td>\n",
       "      <td>0.486180</td>\n",
       "      <td>...</td>\n",
       "      <td>0.261057</td>\n",
       "      <td>0.643078</td>\n",
       "      <td>0.376777</td>\n",
       "      <td>0.008797</td>\n",
       "      <td>-0.473649</td>\n",
       "      <td>-0.818267</td>\n",
       "      <td>-0.002415</td>\n",
       "      <td>0.013649</td>\n",
       "      <td>217.00</td>\n",
       "      <td>0</td>\n",
       "    </tr>\n",
       "  </tbody>\n",
       "</table>\n",
       "<p>5 rows × 31 columns</p>\n",
       "</div>"
      ],
      "text/plain": [
       "         Time         V1         V2        V3        V4        V5        V6  \\\n",
       "96541  172786 -11.881118  10.071785 -9.834783 -2.066656 -5.364473 -2.606837   \n",
       "96542  172787  -0.732789  -0.055080  2.035030 -0.738589  0.868229  1.058415   \n",
       "96543  172788   1.919565  -0.301254 -3.249640 -0.557828  2.630515  3.031260   \n",
       "96544  172788  -0.240440   0.530483  0.702510  0.689799 -0.377961  0.623708   \n",
       "96545  172792  -0.533413  -0.189733  0.703337 -0.506271 -0.012546 -0.649617   \n",
       "\n",
       "             V7        V8        V9  ...       V21       V22       V23  \\\n",
       "96541 -4.918215  7.305334  1.914428  ...  0.213454  0.111864  1.014480   \n",
       "96542  0.024330  0.294869  0.584800  ...  0.214205  0.924384  0.012463   \n",
       "96543 -0.296827  0.708417  0.432454  ...  0.232045  0.578229 -0.037501   \n",
       "96544 -0.686180  0.679145  0.392087  ...  0.265245  0.800049 -0.163298   \n",
       "96545  1.577006 -0.414650  0.486180  ...  0.261057  0.643078  0.376777   \n",
       "\n",
       "            V24       V25       V26       V27       V28  Amount  Class  \n",
       "96541 -0.509348  1.436807  0.250034  0.943651  0.823731    0.77      0  \n",
       "96542 -1.016226 -0.606624 -0.395255  0.068472 -0.053527   24.79      0  \n",
       "96543  0.640134  0.265745 -0.087371  0.004455 -0.026561   67.88      0  \n",
       "96544  0.123205 -0.569159  0.546668  0.108821  0.104533   10.00      0  \n",
       "96545  0.008797 -0.473649 -0.818267 -0.002415  0.013649  217.00      0  \n",
       "\n",
       "[5 rows x 31 columns]"
      ]
     },
     "execution_count": 4,
     "metadata": {},
     "output_type": "execute_result"
    }
   ],
   "source": [
    "trans_b = pd.read_csv(\"https://raw.githubusercontent.com/emmanueliarussi/DataScienceCapstone/master/3_MidtermProjects/ProjectCCF/data/creditcard_b.csv\")\n",
    "trans_b.tail()"
   ]
  },
  {
   "cell_type": "markdown",
   "id": "3624d305",
   "metadata": {},
   "source": [
    "The data is downloaded in two batches, each representing a day of credit card transactions.  To ensure confidentiality, the data has been run through Principal Component Analysis, and is presented here as numeric data, columns \"V1\" through \"V28\", with the exception of a \"Time\" stamp, an \"Amount\" field, and \"Class\":\n",
    "\n",
    "+ Columns V1 - V28:  Anonymized and confidential numeric data.  Sadly, all context has been removed.\n",
    "+ Time:  Elapsed time from the start of the day.\n",
    "+ Amount:  The amount of the transaction in some monetary unit.\n",
    "+ Class:  '0' indicates a non-fraudulent transaction.  '1' indicates a fraudulent transaction.\n",
    "\n",
    "The \"Time\" field will be dropped.  The \"Amount\" field will be scaled.\n",
    "\n",
    "For initial testing, the first day of data was used as the 'train' dataset, while the second day of data was used as the 'test' dataset.  For final model creation, the files were combined and a Train-Test split of 70%-30% was used."
   ]
  },
  {
   "cell_type": "code",
   "execution_count": 5,
   "id": "7c7a6ee0",
   "metadata": {},
   "outputs": [],
   "source": [
    "# Scale the \"Amount\" column in both files\n",
    "\n",
    "scl = StandardScaler()\n",
    "trans_a['Amt'] = scl.fit_transform(trans_a['Amount'].values.reshape(-1,1))\n",
    "trans_a.drop('Amount',axis = 1, inplace = True)\n",
    "\n",
    "trans_b['Amt'] = scl.fit_transform(trans_b['Amount'].values.reshape(-1,1))\n",
    "trans_b.drop('Amount',axis = 1, inplace = True)"
   ]
  },
  {
   "cell_type": "code",
   "execution_count": 6,
   "id": "a97e848e",
   "metadata": {},
   "outputs": [],
   "source": [
    "# Drop the \"Time\" column\n",
    "\n",
    "trans_a = trans_a.drop(['Time'], axis=1)\n",
    "trans_b = trans_b.drop(['Time'], axis=1)"
   ]
  },
  {
   "cell_type": "code",
   "execution_count": 7,
   "id": "7c0b306b",
   "metadata": {},
   "outputs": [],
   "source": [
    "# trans_a"
   ]
  },
  {
   "cell_type": "code",
   "execution_count": 8,
   "id": "006ba627",
   "metadata": {},
   "outputs": [],
   "source": [
    "# For later processing and initial data examination, I will append the two files into one large file:\n",
    "\n",
    "trans = trans_a.append(trans_b)"
   ]
  },
  {
   "cell_type": "code",
   "execution_count": 9,
   "id": "064bb056",
   "metadata": {},
   "outputs": [
    {
     "data": {
      "image/png": "[encoded data removed]",
      "text/plain": [
       "<Figure size 1080x1080 with 30 Axes>"
      ]
     },
     "metadata": {
      "needs_background": "light"
     },
     "output_type": "display_data"
    }
   ],
   "source": [
    "trans.hist(figsize = [15,15]);"
   ]
  },
  {
   "cell_type": "code",
   "execution_count": 10,
   "id": "238c6965",
   "metadata": {},
   "outputs": [
    {
     "name": "stdout",
     "output_type": "stream",
     "text": [
      "<class 'pandas.core.frame.DataFrame'>\n",
      "Int64Index: 284807 entries, 0 to 96545\n",
      "Data columns (total 30 columns):\n",
      " #   Column  Non-Null Count   Dtype  \n",
      "---  ------  --------------   -----  \n",
      " 0   V1      284807 non-null  float64\n",
      " 1   V2      284807 non-null  float64\n",
      " 2   V3      284807 non-null  float64\n",
      " 3   V4      284807 non-null  float64\n",
      " 4   V5      284807 non-null  float64\n",
      " 5   V6      284807 non-null  float64\n",
      " 6   V7      284807 non-null  float64\n",
      " 7   V8      284807 non-null  float64\n",
      " 8   V9      284807 non-null  float64\n",
      " 9   V10     284807 non-null  float64\n",
      " 10  V11     284807 non-null  float64\n",
      " 11  V12     284807 non-null  float64\n",
      " 12  V13     284807 non-null  float64\n",
      " 13  V14     284807 non-null  float64\n",
      " 14  V15     284807 non-null  float64\n",
      " 15  V16     284807 non-null  float64\n",
      " 16  V17     284807 non-null  float64\n",
      " 17  V18     284807 non-null  float64\n",
      " 18  V19     284807 non-null  float64\n",
      " 19  V20     284807 non-null  float64\n",
      " 20  V21     284807 non-null  float64\n",
      " 21  V22     284807 non-null  float64\n",
      " 22  V23     284807 non-null  float64\n",
      " 23  V24     284807 non-null  float64\n",
      " 24  V25     284807 non-null  float64\n",
      " 25  V26     284807 non-null  float64\n",
      " 26  V27     284807 non-null  float64\n",
      " 27  V28     284807 non-null  float64\n",
      " 28  Class   284807 non-null  int64  \n",
      " 29  Amt     284807 non-null  float64\n",
      "dtypes: float64(29), int64(1)\n",
      "memory usage: 67.4 MB\n"
     ]
    }
   ],
   "source": [
    "trans.info()"
   ]
  },
  {
   "cell_type": "code",
   "execution_count": 11,
   "id": "c93d8589",
   "metadata": {},
   "outputs": [
    {
     "data": {
      "text/html": [
       "<div>\n",
       "<style scoped>\n",
       "    .dataframe tbody tr th:only-of-type {\n",
       "        vertical-align: middle;\n",
       "    }\n",
       "\n",
       "    .dataframe tbody tr th {\n",
       "        vertical-align: top;\n",
       "    }\n",
       "\n",
       "    .dataframe thead th {\n",
       "        text-align: right;\n",
       "    }\n",
       "</style>\n",
       "<table border=\"1\" class=\"dataframe\">\n",
       "  <thead>\n",
       "    <tr style=\"text-align: right;\">\n",
       "      <th></th>\n",
       "      <th>V1</th>\n",
       "      <th>V2</th>\n",
       "      <th>V3</th>\n",
       "      <th>V4</th>\n",
       "      <th>V5</th>\n",
       "      <th>V6</th>\n",
       "      <th>V7</th>\n",
       "      <th>V8</th>\n",
       "      <th>V9</th>\n",
       "      <th>V10</th>\n",
       "      <th>...</th>\n",
       "      <th>V21</th>\n",
       "      <th>V22</th>\n",
       "      <th>V23</th>\n",
       "      <th>V24</th>\n",
       "      <th>V25</th>\n",
       "      <th>V26</th>\n",
       "      <th>V27</th>\n",
       "      <th>V28</th>\n",
       "      <th>Class</th>\n",
       "      <th>Amt</th>\n",
       "    </tr>\n",
       "  </thead>\n",
       "  <tbody>\n",
       "    <tr>\n",
       "      <th>count</th>\n",
       "      <td>2.848070e+05</td>\n",
       "      <td>2.848070e+05</td>\n",
       "      <td>2.848070e+05</td>\n",
       "      <td>2.848070e+05</td>\n",
       "      <td>2.848070e+05</td>\n",
       "      <td>2.848070e+05</td>\n",
       "      <td>2.848070e+05</td>\n",
       "      <td>2.848070e+05</td>\n",
       "      <td>2.848070e+05</td>\n",
       "      <td>2.848070e+05</td>\n",
       "      <td>...</td>\n",
       "      <td>2.848070e+05</td>\n",
       "      <td>2.848070e+05</td>\n",
       "      <td>2.848070e+05</td>\n",
       "      <td>2.848070e+05</td>\n",
       "      <td>2.848070e+05</td>\n",
       "      <td>2.848070e+05</td>\n",
       "      <td>2.848070e+05</td>\n",
       "      <td>2.848070e+05</td>\n",
       "      <td>284807.000000</td>\n",
       "      <td>2.848070e+05</td>\n",
       "    </tr>\n",
       "    <tr>\n",
       "      <th>mean</th>\n",
       "      <td>1.168375e-15</td>\n",
       "      <td>3.416908e-16</td>\n",
       "      <td>-1.379537e-15</td>\n",
       "      <td>2.074095e-15</td>\n",
       "      <td>9.604066e-16</td>\n",
       "      <td>1.487313e-15</td>\n",
       "      <td>-5.556467e-16</td>\n",
       "      <td>1.213481e-16</td>\n",
       "      <td>-2.406331e-15</td>\n",
       "      <td>2.239053e-15</td>\n",
       "      <td>...</td>\n",
       "      <td>1.654067e-16</td>\n",
       "      <td>-3.568593e-16</td>\n",
       "      <td>2.578648e-16</td>\n",
       "      <td>4.473266e-15</td>\n",
       "      <td>5.340915e-16</td>\n",
       "      <td>1.683437e-15</td>\n",
       "      <td>-3.660091e-16</td>\n",
       "      <td>-1.227390e-16</td>\n",
       "      <td>0.001727</td>\n",
       "      <td>6.227075e-17</td>\n",
       "    </tr>\n",
       "    <tr>\n",
       "      <th>std</th>\n",
       "      <td>1.958696e+00</td>\n",
       "      <td>1.651309e+00</td>\n",
       "      <td>1.516255e+00</td>\n",
       "      <td>1.415869e+00</td>\n",
       "      <td>1.380247e+00</td>\n",
       "      <td>1.332271e+00</td>\n",
       "      <td>1.237094e+00</td>\n",
       "      <td>1.194353e+00</td>\n",
       "      <td>1.098632e+00</td>\n",
       "      <td>1.088850e+00</td>\n",
       "      <td>...</td>\n",
       "      <td>7.345240e-01</td>\n",
       "      <td>7.257016e-01</td>\n",
       "      <td>6.244603e-01</td>\n",
       "      <td>6.056471e-01</td>\n",
       "      <td>5.212781e-01</td>\n",
       "      <td>4.822270e-01</td>\n",
       "      <td>4.036325e-01</td>\n",
       "      <td>3.300833e-01</td>\n",
       "      <td>0.041527</td>\n",
       "      <td>1.000002e+00</td>\n",
       "    </tr>\n",
       "    <tr>\n",
       "      <th>min</th>\n",
       "      <td>-5.640751e+01</td>\n",
       "      <td>-7.271573e+01</td>\n",
       "      <td>-4.832559e+01</td>\n",
       "      <td>-5.683171e+00</td>\n",
       "      <td>-1.137433e+02</td>\n",
       "      <td>-2.616051e+01</td>\n",
       "      <td>-4.355724e+01</td>\n",
       "      <td>-7.321672e+01</td>\n",
       "      <td>-1.343407e+01</td>\n",
       "      <td>-2.458826e+01</td>\n",
       "      <td>...</td>\n",
       "      <td>-3.483038e+01</td>\n",
       "      <td>-1.093314e+01</td>\n",
       "      <td>-4.480774e+01</td>\n",
       "      <td>-2.836627e+00</td>\n",
       "      <td>-1.029540e+01</td>\n",
       "      <td>-2.604551e+00</td>\n",
       "      <td>-2.256568e+01</td>\n",
       "      <td>-1.543008e+01</td>\n",
       "      <td>0.000000</td>\n",
       "      <td>-3.595522e-01</td>\n",
       "    </tr>\n",
       "    <tr>\n",
       "      <th>25%</th>\n",
       "      <td>-9.203734e-01</td>\n",
       "      <td>-5.985499e-01</td>\n",
       "      <td>-8.903648e-01</td>\n",
       "      <td>-8.486401e-01</td>\n",
       "      <td>-6.915971e-01</td>\n",
       "      <td>-7.682956e-01</td>\n",
       "      <td>-5.540759e-01</td>\n",
       "      <td>-2.086297e-01</td>\n",
       "      <td>-6.430976e-01</td>\n",
       "      <td>-5.354257e-01</td>\n",
       "      <td>...</td>\n",
       "      <td>-2.283949e-01</td>\n",
       "      <td>-5.423504e-01</td>\n",
       "      <td>-1.618463e-01</td>\n",
       "      <td>-3.545861e-01</td>\n",
       "      <td>-3.171451e-01</td>\n",
       "      <td>-3.269839e-01</td>\n",
       "      <td>-7.083953e-02</td>\n",
       "      <td>-5.295979e-02</td>\n",
       "      <td>0.000000</td>\n",
       "      <td>-3.291324e-01</td>\n",
       "    </tr>\n",
       "    <tr>\n",
       "      <th>50%</th>\n",
       "      <td>1.810880e-02</td>\n",
       "      <td>6.548556e-02</td>\n",
       "      <td>1.798463e-01</td>\n",
       "      <td>-1.984653e-02</td>\n",
       "      <td>-5.433583e-02</td>\n",
       "      <td>-2.741871e-01</td>\n",
       "      <td>4.010308e-02</td>\n",
       "      <td>2.235804e-02</td>\n",
       "      <td>-5.142873e-02</td>\n",
       "      <td>-9.291738e-02</td>\n",
       "      <td>...</td>\n",
       "      <td>-2.945017e-02</td>\n",
       "      <td>6.781943e-03</td>\n",
       "      <td>-1.119293e-02</td>\n",
       "      <td>4.097606e-02</td>\n",
       "      <td>1.659350e-02</td>\n",
       "      <td>-5.213911e-02</td>\n",
       "      <td>1.342146e-03</td>\n",
       "      <td>1.124383e-02</td>\n",
       "      <td>0.000000</td>\n",
       "      <td>-2.631645e-01</td>\n",
       "    </tr>\n",
       "    <tr>\n",
       "      <th>75%</th>\n",
       "      <td>1.315642e+00</td>\n",
       "      <td>8.037239e-01</td>\n",
       "      <td>1.027196e+00</td>\n",
       "      <td>7.433413e-01</td>\n",
       "      <td>6.119264e-01</td>\n",
       "      <td>3.985649e-01</td>\n",
       "      <td>5.704361e-01</td>\n",
       "      <td>3.273459e-01</td>\n",
       "      <td>5.971390e-01</td>\n",
       "      <td>4.539234e-01</td>\n",
       "      <td>...</td>\n",
       "      <td>1.863772e-01</td>\n",
       "      <td>5.285536e-01</td>\n",
       "      <td>1.476421e-01</td>\n",
       "      <td>4.395266e-01</td>\n",
       "      <td>3.507156e-01</td>\n",
       "      <td>2.409522e-01</td>\n",
       "      <td>9.104512e-02</td>\n",
       "      <td>7.827995e-02</td>\n",
       "      <td>0.000000</td>\n",
       "      <td>-4.444575e-02</td>\n",
       "    </tr>\n",
       "    <tr>\n",
       "      <th>max</th>\n",
       "      <td>2.454930e+00</td>\n",
       "      <td>2.205773e+01</td>\n",
       "      <td>9.382558e+00</td>\n",
       "      <td>1.687534e+01</td>\n",
       "      <td>3.480167e+01</td>\n",
       "      <td>7.330163e+01</td>\n",
       "      <td>1.205895e+02</td>\n",
       "      <td>2.000721e+01</td>\n",
       "      <td>1.559499e+01</td>\n",
       "      <td>2.374514e+01</td>\n",
       "      <td>...</td>\n",
       "      <td>2.720284e+01</td>\n",
       "      <td>1.050309e+01</td>\n",
       "      <td>2.252841e+01</td>\n",
       "      <td>4.584549e+00</td>\n",
       "      <td>7.519589e+00</td>\n",
       "      <td>3.517346e+00</td>\n",
       "      <td>3.161220e+01</td>\n",
       "      <td>3.384781e+01</td>\n",
       "      <td>1.000000</td>\n",
       "      <td>1.003771e+02</td>\n",
       "    </tr>\n",
       "  </tbody>\n",
       "</table>\n",
       "<p>8 rows × 30 columns</p>\n",
       "</div>"
      ],
      "text/plain": [
       "                 V1            V2            V3            V4            V5  \\\n",
       "count  2.848070e+05  2.848070e+05  2.848070e+05  2.848070e+05  2.848070e+05   \n",
       "mean   1.168375e-15  3.416908e-16 -1.379537e-15  2.074095e-15  9.604066e-16   \n",
       "std    1.958696e+00  1.651309e+00  1.516255e+00  1.415869e+00  1.380247e+00   \n",
       "min   -5.640751e+01 -7.271573e+01 -4.832559e+01 -5.683171e+00 -1.137433e+02   \n",
       "25%   -9.203734e-01 -5.985499e-01 -8.903648e-01 -8.486401e-01 -6.915971e-01   \n",
       "50%    1.810880e-02  6.548556e-02  1.798463e-01 -1.984653e-02 -5.433583e-02   \n",
       "75%    1.315642e+00  8.037239e-01  1.027196e+00  7.433413e-01  6.119264e-01   \n",
       "max    2.454930e+00  2.205773e+01  9.382558e+00  1.687534e+01  3.480167e+01   \n",
       "\n",
       "                 V6            V7            V8            V9           V10  \\\n",
       "count  2.848070e+05  2.848070e+05  2.848070e+05  2.848070e+05  2.848070e+05   \n",
       "mean   1.487313e-15 -5.556467e-16  1.213481e-16 -2.406331e-15  2.239053e-15   \n",
       "std    1.332271e+00  1.237094e+00  1.194353e+00  1.098632e+00  1.088850e+00   \n",
       "min   -2.616051e+01 -4.355724e+01 -7.321672e+01 -1.343407e+01 -2.458826e+01   \n",
       "25%   -7.682956e-01 -5.540759e-01 -2.086297e-01 -6.430976e-01 -5.354257e-01   \n",
       "50%   -2.741871e-01  4.010308e-02  2.235804e-02 -5.142873e-02 -9.291738e-02   \n",
       "75%    3.985649e-01  5.704361e-01  3.273459e-01  5.971390e-01  4.539234e-01   \n",
       "max    7.330163e+01  1.205895e+02  2.000721e+01  1.559499e+01  2.374514e+01   \n",
       "\n",
       "       ...           V21           V22           V23           V24  \\\n",
       "count  ...  2.848070e+05  2.848070e+05  2.848070e+05  2.848070e+05   \n",
       "mean   ...  1.654067e-16 -3.568593e-16  2.578648e-16  4.473266e-15   \n",
       "std    ...  7.345240e-01  7.257016e-01  6.244603e-01  6.056471e-01   \n",
       "min    ... -3.483038e+01 -1.093314e+01 -4.480774e+01 -2.836627e+00   \n",
       "25%    ... -2.283949e-01 -5.423504e-01 -1.618463e-01 -3.545861e-01   \n",
       "50%    ... -2.945017e-02  6.781943e-03 -1.119293e-02  4.097606e-02   \n",
       "75%    ...  1.863772e-01  5.285536e-01  1.476421e-01  4.395266e-01   \n",
       "max    ...  2.720284e+01  1.050309e+01  2.252841e+01  4.584549e+00   \n",
       "\n",
       "                V25           V26           V27           V28          Class  \\\n",
       "count  2.848070e+05  2.848070e+05  2.848070e+05  2.848070e+05  284807.000000   \n",
       "mean   5.340915e-16  1.683437e-15 -3.660091e-16 -1.227390e-16       0.001727   \n",
       "std    5.212781e-01  4.822270e-01  4.036325e-01  3.300833e-01       0.041527   \n",
       "min   -1.029540e+01 -2.604551e+00 -2.256568e+01 -1.543008e+01       0.000000   \n",
       "25%   -3.171451e-01 -3.269839e-01 -7.083953e-02 -5.295979e-02       0.000000   \n",
       "50%    1.659350e-02 -5.213911e-02  1.342146e-03  1.124383e-02       0.000000   \n",
       "75%    3.507156e-01  2.409522e-01  9.104512e-02  7.827995e-02       0.000000   \n",
       "max    7.519589e+00  3.517346e+00  3.161220e+01  3.384781e+01       1.000000   \n",
       "\n",
       "                Amt  \n",
       "count  2.848070e+05  \n",
       "mean   6.227075e-17  \n",
       "std    1.000002e+00  \n",
       "min   -3.595522e-01  \n",
       "25%   -3.291324e-01  \n",
       "50%   -2.631645e-01  \n",
       "75%   -4.444575e-02  \n",
       "max    1.003771e+02  \n",
       "\n",
       "[8 rows x 30 columns]"
      ]
     },
     "execution_count": 11,
     "metadata": {},
     "output_type": "execute_result"
    }
   ],
   "source": [
    "trans.describe()"
   ]
  },
  {
   "cell_type": "code",
   "execution_count": 153,
   "id": "5e3d9db0",
   "metadata": {},
   "outputs": [
    {
     "data": {
      "text/plain": [
       "<AxesSubplot:>"
      ]
     },
     "execution_count": 153,
     "metadata": {},
     "output_type": "execute_result"
    },
    {
     "data": {
      "image/png": "[encoded data removed]",
      "text/plain": [
       "<Figure size 1152x864 with 2 Axes>"
      ]
     },
     "metadata": {
      "needs_background": "light"
     },
     "output_type": "display_data"
    }
   ],
   "source": [
    "correl = trans.corr()\n",
    "\n",
    "plt.subplots(figsize=(16,12))\n",
    "sns.heatmap(correl)"
   ]
  },
  {
   "cell_type": "markdown",
   "id": "7cf9a896",
   "metadata": {},
   "source": [
    "Since the data has already been run through PCA transformation, there is little to be gleaned from this heatmap."
   ]
  },
  {
   "cell_type": "code",
   "execution_count": 12,
   "id": "4dbb1dcf",
   "metadata": {},
   "outputs": [],
   "source": [
    "# Create feature and target files for each of the data files\n",
    "\n",
    "transA_targ = trans_a['Class']\n",
    "transA_feat = trans_a.drop(['Class'], axis=1)\n",
    "\n",
    "transB_targ = trans_b['Class']\n",
    "transB_feat = trans_b.drop(['Class'], axis=1)"
   ]
  },
  {
   "cell_type": "code",
   "execution_count": 13,
   "id": "995588a2",
   "metadata": {},
   "outputs": [
    {
     "name": "stdout",
     "output_type": "stream",
     "text": [
      "[(0, 187893), (1, 368)]\n"
     ]
    }
   ],
   "source": [
    "from collections import Counter\n",
    "\n",
    "print(sorted(Counter(transA_targ).items()))"
   ]
  },
  {
   "cell_type": "code",
   "execution_count": 14,
   "id": "16fe8585",
   "metadata": {},
   "outputs": [
    {
     "name": "stdout",
     "output_type": "stream",
     "text": [
      "[(0, 96422), (1, 124)]\n"
     ]
    }
   ],
   "source": [
    "print(sorted(Counter(transB_targ).items()))"
   ]
  },
  {
   "cell_type": "markdown",
   "id": "5654a794",
   "metadata": {},
   "source": [
    "transA has 187,893 non-fraudulent records, and 368 fraudulent records\n",
    "transB has 96,422 non-fraudulent records, and 124 fraudulent records\n",
    "\n",
    "For all the data, 284,807 total records, of which 492 represent fraudulent credit card charges."
   ]
  },
  {
   "cell_type": "raw",
   "id": "a3d7fdad",
   "metadata": {},
   "source": []
  },
  {
   "cell_type": "code",
   "execution_count": 15,
   "id": "e314da5f",
   "metadata": {},
   "outputs": [],
   "source": [
    "# Create a function to batch report a number of metrics after models have been built\n",
    "\n",
    "from sklearn.metrics import roc_auc_score\n",
    "from sklearn.metrics import f1_score\n",
    "from sklearn.metrics import recall_score\n",
    "from sklearn.metrics import confusion_matrix\n",
    "from sklearn.metrics import average_precision_score\n",
    "from sklearn.metrics import accuracy_score\n",
    "\n",
    "def print_results(true, pred):\n",
    "    \n",
    "    print(\"Accuracy:\", accuracy_score(true, pred))\n",
    "    print('ROCAUC score:',roc_auc_score(true, pred))\n",
    "    print('F1 score:',f1_score(true, pred))\n",
    "    print('Recall score:', recall_score(true, pred))\n",
    "    print('Confusion Matrix: ','\\n', confusion_matrix(true, pred))\n",
    "    print('AUPRC:', average_precision_score(true, pred))\n",
    "    \n",
    "    unique, counts = np.unique(pred, return_counts=True)\n",
    "    preds_dict = dict(zip(unique, counts))\n",
    "    print('Predicted # Fraud cases: ', preds_dict[1])\n",
    "    \n",
    "    unique2, counts2 = np.unique(true, return_counts=True)\n",
    "    true_dict = dict(zip(unique2, counts2))\n",
    "    print('Actual # Fraud cases: ', true_dict[1])\n"
   ]
  },
  {
   "cell_type": "markdown",
   "id": "0ef662ef",
   "metadata": {},
   "source": [
    "I will start with some naive testing.  As mentioned, for now I will use the transA file as the training files and the transB files as the test files."
   ]
  },
  {
   "cell_type": "code",
   "execution_count": 16,
   "id": "a7288255",
   "metadata": {},
   "outputs": [],
   "source": [
    "# Classifiers\n",
    "\n",
    "from sklearn.tree import DecisionTreeClassifier\n",
    "from sklearn.svm import SVC\n",
    "from sklearn.ensemble import RandomForestClassifier\n",
    "from sklearn.neighbors import KNeighborsClassifier\n",
    "from sklearn.linear_model import LogisticRegression\n",
    "from sklearn.naive_bayes import GaussianNB\n",
    "\n",
    "# Graphing\n",
    "from sklearn.metrics import PrecisionRecallDisplay\n",
    "from sklearn.metrics import plot_precision_recall_curve\n",
    "from sklearn.metrics import RocCurveDisplay\n"
   ]
  },
  {
   "cell_type": "code",
   "execution_count": 17,
   "id": "45a9a7d6",
   "metadata": {},
   "outputs": [
    {
     "name": "stdout",
     "output_type": "stream",
     "text": [
      "Accuracy: 0.9988295734675698\n",
      "ROCAUC score: 0.8343040605777962\n",
      "F1 score: 0.5949820788530465\n",
      "Recall score: 0.6693548387096774\n",
      "Confusion Matrix:  \n",
      " [[96350    72]\n",
      " [   41    83]]\n",
      "AUPRC: 0.3588533881171372\n",
      "Predicted # Fraud cases:  155\n",
      "Actual # Fraud cases:  124\n"
     ]
    }
   ],
   "source": [
    "# %%timeit -n 1 -r 1\n",
    "\n",
    "# Decision Tree Classifier, base files, no special file handling.\n",
    "\n",
    "clf = DecisionTreeClassifier(random_state=42)\n",
    "\n",
    "clf = clf.fit(transA_feat, transA_targ)\n",
    "\n",
    "preds = clf.predict(transB_feat)\n",
    "\n",
    "print_results(transB_targ, preds)"
   ]
  },
  {
   "cell_type": "code",
   "execution_count": 18,
   "id": "8a42a578",
   "metadata": {},
   "outputs": [
    {
     "data": {
      "image/png": "[encoded data removed]",
      "text/plain": [
       "<Figure size 432x288 with 1 Axes>"
      ]
     },
     "metadata": {
      "needs_background": "light"
     },
     "output_type": "display_data"
    }
   ],
   "source": [
    "display = PrecisionRecallDisplay.from_estimator(clf, transB_feat, transB_targ, name=\"DT - Base\")\n",
    "_ = display.ax_.set_title(\"Precision-Recall curve\")"
   ]
  },
  {
   "cell_type": "code",
   "execution_count": 19,
   "id": "b37347c5",
   "metadata": {},
   "outputs": [
    {
     "data": {
      "image/png": "[encoded data removed]",
      "text/plain": [
       "<Figure size 432x288 with 1 Axes>"
      ]
     },
     "metadata": {
      "needs_background": "light"
     },
     "output_type": "display_data"
    }
   ],
   "source": [
    "display = RocCurveDisplay.from_estimator(clf, transB_feat, transB_targ, name='DT - Base')\n",
    "_ = display.ax_.set_title(\"ROC Curve\")"
   ]
  },
  {
   "cell_type": "code",
   "execution_count": 20,
   "id": "20b207eb",
   "metadata": {},
   "outputs": [
    {
     "name": "stdout",
     "output_type": "stream",
     "text": [
      "Accuracy: 0.9993681768276262\n",
      "ROCAUC score: 0.7580593305904623\n",
      "F1 score: 0.6772486772486772\n",
      "Recall score: 0.5161290322580645\n",
      "Confusion Matrix:  \n",
      " [[96421     1]\n",
      " [   60    64]]\n",
      "AUPRC: 0.50881005102339\n",
      "Predicted # Fraud cases:  65\n",
      "Actual # Fraud cases:  124\n"
     ]
    }
   ],
   "source": [
    "#%%timeit -n 1 -r 1\n",
    "\n",
    "# SVC - Base files\n",
    "\n",
    "clf = SVC(gamma='auto')\n",
    "\n",
    "clf = clf.fit(transA_feat, transA_targ)\n",
    "\n",
    "preds = clf.predict(transB_feat)\n",
    "\n",
    "print_results(transB_targ, preds)\n"
   ]
  },
  {
   "cell_type": "code",
   "execution_count": 21,
   "id": "5bba4b36",
   "metadata": {},
   "outputs": [
    {
     "data": {
      "image/png": "[encoded data removed]",
      "text/plain": [
       "<Figure size 432x288 with 1 Axes>"
      ]
     },
     "metadata": {
      "needs_background": "light"
     },
     "output_type": "display_data"
    }
   ],
   "source": [
    "display = PrecisionRecallDisplay.from_estimator(clf, transB_feat, transB_targ, name=\"SVC - Base\")\n",
    "_ = display.ax_.set_title(\"Precision-Recall curve\")"
   ]
  },
  {
   "cell_type": "code",
   "execution_count": 22,
   "id": "55fb73b4",
   "metadata": {},
   "outputs": [
    {
     "data": {
      "image/png": "[encoded data removed]",
      "text/plain": [
       "<Figure size 432x288 with 1 Axes>"
      ]
     },
     "metadata": {
      "needs_background": "light"
     },
     "output_type": "display_data"
    }
   ],
   "source": [
    "display = RocCurveDisplay.from_estimator(clf, transB_feat, transB_targ, name='SVC - Base')\n",
    "_ = display.ax_.set_title(\"ROC Curve\")"
   ]
  },
  {
   "cell_type": "code",
   "execution_count": 23,
   "id": "1f6c8e8d",
   "metadata": {},
   "outputs": [
    {
     "name": "stdout",
     "output_type": "stream",
     "text": [
      "Accuracy: 0.9995339009384128\n",
      "ROCAUC score: 0.8306296046746124\n",
      "F1 score: 0.784688995215311\n",
      "Recall score: 0.6612903225806451\n",
      "Confusion Matrix:  \n",
      " [[96419     3]\n",
      " [   42    82]]\n",
      "AUPRC: 0.6383856899274372\n",
      "Predicted # Fraud cases:  85\n",
      "Actual # Fraud cases:  124\n"
     ]
    }
   ],
   "source": [
    "# Try Random Forest with the Base files\n",
    "clf = RandomForestClassifier(criterion = 'entropy')\n",
    "\n",
    "clf = clf.fit(transA_feat, transA_targ)\n",
    "\n",
    "preds = clf.predict(transB_feat)\n",
    "\n",
    "print_results(transB_targ, preds)"
   ]
  },
  {
   "cell_type": "code",
   "execution_count": 27,
   "id": "6cfe2e14",
   "metadata": {},
   "outputs": [
    {
     "data": {
      "image/png": "[encoded data removed]",
      "text/plain": [
       "<Figure size 432x288 with 1 Axes>"
      ]
     },
     "metadata": {
      "needs_background": "light"
     },
     "output_type": "display_data"
    }
   ],
   "source": [
    "display = PrecisionRecallDisplay.from_estimator(clf, transB_feat, transB_targ, name=\"RF - Base\")\n",
    "_ = display.ax_.set_title(\"Precision-Recall curve\")"
   ]
  },
  {
   "cell_type": "code",
   "execution_count": 25,
   "id": "b6834cdf",
   "metadata": {},
   "outputs": [
    {
     "data": {
      "image/png": "[encoded data removed]",
      "text/plain": [
       "<Figure size 432x288 with 1 Axes>"
      ]
     },
     "metadata": {
      "needs_background": "light"
     },
     "output_type": "display_data"
    }
   ],
   "source": [
    "display = RocCurveDisplay.from_estimator(clf, transB_feat, transB_targ, name='RF - Base')\n",
    "_ = display.ax_.set_title(\"ROC Curve\")"
   ]
  },
  {
   "cell_type": "markdown",
   "id": "951c690f",
   "metadata": {},
   "source": [
    "As predicted, all of these naive models returned Accuracy Scores of greater than 99%.  But the Decision Tree classified 83 cases of fraud, out of 124 actual cases, falsely labeling 72 records as fraud.  The Support Vector Classifier got 64 of the 124, but only mis-classified 1 record.  The Random Forest Classifier got 83 out of 124, with 3 records labeled incorrectly."
   ]
  },
  {
   "cell_type": "markdown",
   "id": "7fddb954",
   "metadata": {},
   "source": [
    "These results can be improved.  We will go through the possibilities systematically."
   ]
  },
  {
   "cell_type": "code",
   "execution_count": 28,
   "id": "716e7eb7",
   "metadata": {},
   "outputs": [],
   "source": [
    "# Let's undersample the majority class and match record counts\n",
    "\n",
    "# Separate class\n",
    "class_0 = trans_a[trans_a['Class'] == 0]\n",
    "class_1 = trans_a[trans_a['Class'] == 1]"
   ]
  },
  {
   "cell_type": "code",
   "execution_count": 29,
   "id": "a019c430",
   "metadata": {},
   "outputs": [
    {
     "name": "stdout",
     "output_type": "stream",
     "text": [
      "Total of Class 0 and 1 records: 0    368\n",
      "1    368\n",
      "Name: Class, dtype: int64\n"
     ]
    },
    {
     "data": {
      "text/plain": [
       "<AxesSubplot:title={'center':'count (target)'}>"
      ]
     },
     "execution_count": 29,
     "metadata": {},
     "output_type": "execute_result"
    },
    {
     "data": {
      "image/png": "[encoded data removed]",
      "text/plain": [
       "<Figure size 432x288 with 1 Axes>"
      ]
     },
     "metadata": {
      "needs_background": "light"
     },
     "output_type": "display_data"
    }
   ],
   "source": [
    "# Test an Under sampled file, with matching number of records for 0 and 1\n",
    "\n",
    "count_1 = len(class_1)\n",
    "\n",
    "class_0_small = class_0.sample(count_1)\n",
    "\n",
    "test_under = pd.concat([class_0_small, class_1], axis=0)\n",
    "\n",
    "print(\"Total of Class 0 and 1 records:\", test_under['Class'].value_counts())\n",
    "test_under['Class'].value_counts().plot(kind='bar', title='count (target)')\n"
   ]
  },
  {
   "cell_type": "code",
   "execution_count": 30,
   "id": "9a92a259",
   "metadata": {},
   "outputs": [],
   "source": [
    "# Each class has 368 records"
   ]
  },
  {
   "cell_type": "code",
   "execution_count": 31,
   "id": "9a733869",
   "metadata": {},
   "outputs": [],
   "source": [
    "# Split the new small file\n",
    "small_targ = test_under['Class']\n",
    "small_feat = test_under.drop(['Class'], axis=1)"
   ]
  },
  {
   "cell_type": "code",
   "execution_count": 32,
   "id": "dc605656",
   "metadata": {},
   "outputs": [
    {
     "name": "stdout",
     "output_type": "stream",
     "text": [
      "Accuracy: 0.9082406314088621\n",
      "ROCAUC score: 0.8735198632891303\n",
      "F1 score: 0.02294033307598985\n",
      "Recall score: 0.8387096774193549\n",
      "Confusion Matrix:  \n",
      " [[87583  8839]\n",
      " [   20   104]]\n",
      "AUPRC: 0.0099606837588134\n",
      "Predicted # Fraud cases:  8943\n",
      "Actual # Fraud cases:  124\n"
     ]
    }
   ],
   "source": [
    "# Try a Decision Tree classifier on the small files\n",
    "\n",
    "clf = DecisionTreeClassifier(random_state=42)\n",
    "\n",
    "clf = clf.fit(small_feat, small_targ)\n",
    "\n",
    "preds = clf.predict(transB_feat)\n",
    "\n",
    "print_results(transB_targ, preds)"
   ]
  },
  {
   "cell_type": "code",
   "execution_count": 33,
   "id": "8742016f",
   "metadata": {},
   "outputs": [
    {
     "data": {
      "image/png": "[encoded data removed]",
      "text/plain": [
       "<Figure size 432x288 with 1 Axes>"
      ]
     },
     "metadata": {
      "needs_background": "light"
     },
     "output_type": "display_data"
    }
   ],
   "source": [
    "display = PrecisionRecallDisplay.from_estimator(clf, transB_feat, transB_targ, name=\"DT - Undersampled\")\n",
    "_ = display.ax_.set_title(\"Precision-Recall curve\")"
   ]
  },
  {
   "cell_type": "markdown",
   "id": "f60b3e12",
   "metadata": {},
   "source": [
    "From SKLEARN Documentation:  \"The precision-recall curve shows the tradeoff between precision and recall for different threshold. A high area under the curve represents both high recall and high precision, where high precision relates to a low false positive rate, and high recall relates to a low false negative rate.\""
   ]
  },
  {
   "cell_type": "code",
   "execution_count": 34,
   "id": "e016de61",
   "metadata": {},
   "outputs": [
    {
     "data": {
      "image/png": "[encoded data removed]",
      "text/plain": [
       "<Figure size 432x288 with 1 Axes>"
      ]
     },
     "metadata": {
      "needs_background": "light"
     },
     "output_type": "display_data"
    }
   ],
   "source": [
    "display = RocCurveDisplay.from_estimator(clf, transB_feat, transB_targ, name='DT - Undersampled')\n",
    "_ = display.ax_.set_title(\"ROC Curve\")"
   ]
  },
  {
   "cell_type": "markdown",
   "id": "8995c443",
   "metadata": {},
   "source": [
    "From SKLEARN documentation: “A receiver operating characteristic (ROC), or simply ROC curve, is a graphical plot which illustrates the performance of a binary classifier system as its discrimination threshold is varied. It is created by plotting the fraction of true positives out of the positives (TPR = true positive rate) vs. the fraction of false positives out of the negatives (FPR = false positive rate), at various threshold settings. TPR is also known as sensitivity, and FPR is one minus the specificity or true negative rate.”"
   ]
  },
  {
   "cell_type": "code",
   "execution_count": 35,
   "id": "b25d1a8e",
   "metadata": {},
   "outputs": [
    {
     "name": "stdout",
     "output_type": "stream",
     "text": [
      "Accuracy: 0.9585482567895096\n",
      "ROCAUC score: 0.9228684592794711\n",
      "F1 score: 0.052108005684509705\n",
      "Recall score: 0.8870967741935484\n",
      "Confusion Matrix:  \n",
      " [[92434  3988]\n",
      " [   14   110]]\n",
      "AUPRC: 0.023956781452304357\n",
      "Predicted # Fraud cases:  4098\n",
      "Actual # Fraud cases:  124\n"
     ]
    }
   ],
   "source": [
    "# SVC - Undersampled file\n",
    "\n",
    "clf = SVC(gamma='auto')\n",
    "\n",
    "clf = clf.fit(small_feat, small_targ)\n",
    "\n",
    "preds = clf.predict(transB_feat)\n",
    "\n",
    "print_results(transB_targ, preds)"
   ]
  },
  {
   "cell_type": "code",
   "execution_count": 36,
   "id": "f2810420",
   "metadata": {},
   "outputs": [
    {
     "data": {
      "image/png": "[encoded data removed]",
      "text/plain": [
       "<Figure size 432x288 with 1 Axes>"
      ]
     },
     "metadata": {
      "needs_background": "light"
     },
     "output_type": "display_data"
    }
   ],
   "source": [
    "display = PrecisionRecallDisplay.from_estimator(clf, transB_feat, transB_targ, name=\"SVC - Undersampled\")\n",
    "_ = display.ax_.set_title(\"Precision-Recall curve\")"
   ]
  },
  {
   "cell_type": "code",
   "execution_count": 37,
   "id": "0eeeb4a0",
   "metadata": {
    "scrolled": true
   },
   "outputs": [
    {
     "data": {
      "image/png": "[encoded data removed]",
      "text/plain": [
       "<Figure size 432x288 with 1 Axes>"
      ]
     },
     "metadata": {
      "needs_background": "light"
     },
     "output_type": "display_data"
    }
   ],
   "source": [
    "display = RocCurveDisplay.from_estimator(clf, transB_feat, transB_targ, name='SVC - Undersampled')\n",
    "_ = display.ax_.set_title(\"ROC Curve\")"
   ]
  },
  {
   "cell_type": "code",
   "execution_count": 38,
   "id": "43a13192",
   "metadata": {},
   "outputs": [
    {
     "name": "stdout",
     "output_type": "stream",
     "text": [
      "Accuracy: 0.9905433679282415\n",
      "ROCAUC score: 0.9187512252925815\n",
      "F1 score: 0.18699910952804988\n",
      "Recall score: 0.8467741935483871\n",
      "Confusion Matrix:  \n",
      " [[95528   894]\n",
      " [   19   105]]\n",
      "AUPRC: 0.08919708799475289\n",
      "Predicted # Fraud cases:  999\n",
      "Actual # Fraud cases:  124\n"
     ]
    }
   ],
   "source": [
    "# Try Random Forest with the UNDERSAMPLED files\n",
    "clf = RandomForestClassifier(criterion = 'entropy')\n",
    "\n",
    "clf = clf.fit(small_feat, small_targ)\n",
    "\n",
    "preds = clf.predict(transB_feat)\n",
    "\n",
    "print_results(transB_targ, preds)"
   ]
  },
  {
   "cell_type": "code",
   "execution_count": 39,
   "id": "efe0d6fa",
   "metadata": {},
   "outputs": [
    {
     "data": {
      "image/png": "[encoded data removed]",
      "text/plain": [
       "<Figure size 432x288 with 1 Axes>"
      ]
     },
     "metadata": {
      "needs_background": "light"
     },
     "output_type": "display_data"
    }
   ],
   "source": [
    "display = PrecisionRecallDisplay.from_estimator(clf, transB_feat, transB_targ, name=\"RF - Undersampled\")\n",
    "_ = display.ax_.set_title(\"Precision-Recall curve\")"
   ]
  },
  {
   "cell_type": "code",
   "execution_count": 40,
   "id": "5a030d26",
   "metadata": {},
   "outputs": [
    {
     "data": {
      "image/png": "[encoded data removed]",
      "text/plain": [
       "<Figure size 432x288 with 1 Axes>"
      ]
     },
     "metadata": {
      "needs_background": "light"
     },
     "output_type": "display_data"
    }
   ],
   "source": [
    "display = RocCurveDisplay.from_estimator(clf, transB_feat, transB_targ, name='RF - Undersampled')\n",
    "_ = display.ax_.set_title(\"ROC Curve\")"
   ]
  },
  {
   "cell_type": "markdown",
   "id": "e9ce9001",
   "metadata": {},
   "source": [
    "In all these cases, high numbers of false fraud predictions are returned.  Clearly, not enough information from the majority class is retained by the greatly diminished number of records.  Too much information was lost.  Moving on."
   ]
  },
  {
   "cell_type": "code",
   "execution_count": null,
   "id": "b69bc23a",
   "metadata": {},
   "outputs": [],
   "source": []
  },
  {
   "cell_type": "markdown",
   "id": "be4c77cf",
   "metadata": {},
   "source": [
    "Again, I will take a naive approach and simply over sample the minority class to match the number of records in the majority class."
   ]
  },
  {
   "cell_type": "code",
   "execution_count": 41,
   "id": "981ef771",
   "metadata": {},
   "outputs": [
    {
     "name": "stdout",
     "output_type": "stream",
     "text": [
      "Total of Class 0 and 1 records: 1    187893\n",
      "0    187893\n",
      "Name: Class, dtype: int64\n"
     ]
    },
    {
     "data": {
      "text/plain": [
       "<AxesSubplot:title={'center':'count (target)'}>"
      ]
     },
     "execution_count": 41,
     "metadata": {},
     "output_type": "execute_result"
    },
    {
     "data": {
      "image/png": "[encoded data removed]",
      "text/plain": [
       "<Figure size 432x288 with 1 Axes>"
      ]
     },
     "metadata": {
      "needs_background": "light"
     },
     "output_type": "display_data"
    }
   ],
   "source": [
    "# This time, try to OVER sample!\n",
    "\n",
    "count_1 = len(class_0)\n",
    "\n",
    "class_1_big = class_1.sample(count_1, replace=True)\n",
    "\n",
    "test_over = pd.concat([class_1_big, class_0], axis=0)\n",
    "\n",
    "print(\"Total of Class 0 and 1 records:\", test_over['Class'].value_counts())\n",
    "test_over['Class'].value_counts().plot(kind='bar', title='count (target)')\n"
   ]
  },
  {
   "cell_type": "code",
   "execution_count": 42,
   "id": "5f5ee9a9",
   "metadata": {},
   "outputs": [],
   "source": [
    "# Split the new big file\n",
    "big_targ = test_over['Class']\n",
    "big_feat = test_over.drop(['Class'], axis=1)"
   ]
  },
  {
   "cell_type": "code",
   "execution_count": 43,
   "id": "876720f4",
   "metadata": {},
   "outputs": [
    {
     "name": "stdout",
     "output_type": "stream",
     "text": [
      "Accuracy: 0.9990160130922048\n",
      "ROCAUC score: 0.8343974002720568\n",
      "F1 score: 0.6360153256704981\n",
      "Recall score: 0.6693548387096774\n",
      "Confusion Matrix:  \n",
      " [[96368    54]\n",
      " [   41    83]]\n",
      "AUPRC: 0.40594621265362213\n",
      "Predicted # Fraud cases:  137\n",
      "Actual # Fraud cases:  124\n"
     ]
    }
   ],
   "source": [
    "# Now classify again, see if it does any better  DECISION TREE\n",
    "\n",
    "# Try Decision Tree again\n",
    "clf = DecisionTreeClassifier(random_state=42)\n",
    "\n",
    "clf = clf.fit(big_feat, big_targ)\n",
    "\n",
    "preds = clf.predict(transB_feat)\n",
    "\n",
    "print_results(transB_targ, preds)"
   ]
  },
  {
   "cell_type": "code",
   "execution_count": 44,
   "id": "4b04213a",
   "metadata": {},
   "outputs": [
    {
     "data": {
      "image/png": "[encoded data removed]",
      "text/plain": [
       "<Figure size 432x288 with 1 Axes>"
      ]
     },
     "metadata": {
      "needs_background": "light"
     },
     "output_type": "display_data"
    }
   ],
   "source": [
    "display = PrecisionRecallDisplay.from_estimator(clf, transB_feat, transB_targ, name=\"DT - Oversampled\")\n",
    "_ = display.ax_.set_title(\"Precision-Recall curve\")"
   ]
  },
  {
   "cell_type": "code",
   "execution_count": 45,
   "id": "17b7ab9b",
   "metadata": {},
   "outputs": [
    {
     "data": {
      "image/png": "[encoded data removed]",
      "text/plain": [
       "<Figure size 432x288 with 1 Axes>"
      ]
     },
     "metadata": {
      "needs_background": "light"
     },
     "output_type": "display_data"
    }
   ],
   "source": [
    "display = RocCurveDisplay.from_estimator(clf, transB_feat, transB_targ, name='DT - Oversampled')\n",
    "_ = display.ax_.set_title(\"ROC Curve\")"
   ]
  },
  {
   "cell_type": "code",
   "execution_count": 46,
   "id": "052a920c",
   "metadata": {},
   "outputs": [
    {
     "name": "stdout",
     "output_type": "stream",
     "text": [
      "Accuracy: 0.9989849398214322\n",
      "ROCAUC score: 0.7578674656633708\n",
      "F1 score: 0.5663716814159292\n",
      "Recall score: 0.5161290322580645\n",
      "Confusion Matrix:  \n",
      " [[96384    38]\n",
      " [   60    64]]\n",
      "AUPRC: 0.32446713271462735\n",
      "Predicted # Fraud cases:  102\n",
      "Actual # Fraud cases:  124\n"
     ]
    }
   ],
   "source": [
    "# Now SVC on the OVER sampled file\n",
    "clf = SVC(gamma='auto')\n",
    "\n",
    "clf = clf.fit(big_feat, big_targ)\n",
    "\n",
    "preds = clf.predict(transB_feat)\n",
    "\n",
    "print_results(transB_targ, preds)"
   ]
  },
  {
   "cell_type": "code",
   "execution_count": 47,
   "id": "116ee9b4",
   "metadata": {},
   "outputs": [
    {
     "data": {
      "image/png": "[encoded data removed]",
      "text/plain": [
       "<Figure size 432x288 with 1 Axes>"
      ]
     },
     "metadata": {
      "needs_background": "light"
     },
     "output_type": "display_data"
    }
   ],
   "source": [
    "display = PrecisionRecallDisplay.from_estimator(clf, transB_feat, transB_targ, name=\"SVC - Oversampled\")\n",
    "_ = display.ax_.set_title(\"Precision-Recall curve\")"
   ]
  },
  {
   "cell_type": "code",
   "execution_count": 48,
   "id": "b36e55c0",
   "metadata": {},
   "outputs": [
    {
     "data": {
      "image/png": "[encoded data removed]",
      "text/plain": [
       "<Figure size 432x288 with 1 Axes>"
      ]
     },
     "metadata": {
      "needs_background": "light"
     },
     "output_type": "display_data"
    }
   ],
   "source": [
    "display = RocCurveDisplay.from_estimator(clf, transB_feat, transB_targ, name='SVC - Oversampled')\n",
    "_ = display.ax_.set_title(\"ROC Curve\")"
   ]
  },
  {
   "cell_type": "code",
   "execution_count": 49,
   "id": "be6b616a",
   "metadata": {},
   "outputs": [
    {
     "name": "stdout",
     "output_type": "stream",
     "text": [
      "Accuracy: 0.9995649742091852\n",
      "ROCAUC score: 0.8427263788681609\n",
      "F1 score: 0.8018867924528302\n",
      "Recall score: 0.6854838709677419\n",
      "Confusion Matrix:  \n",
      " [[96419     3]\n",
      " [   39    85]]\n",
      "AUPRC: 0.6625190551593384\n",
      "Predicted # Fraud cases:  88\n",
      "Actual # Fraud cases:  124\n"
     ]
    }
   ],
   "source": [
    "# Try Random Forest with the OVERSAMPLED files\n",
    "clf = RandomForestClassifier(criterion = 'entropy')\n",
    "\n",
    "clf = clf.fit(big_feat, big_targ)\n",
    "\n",
    "preds = clf.predict(transB_feat)\n",
    "\n",
    "print_results(transB_targ, preds)"
   ]
  },
  {
   "cell_type": "code",
   "execution_count": 50,
   "id": "0f7638ee",
   "metadata": {},
   "outputs": [
    {
     "data": {
      "image/png": "[encoded data removed]",
      "text/plain": [
       "<Figure size 432x288 with 1 Axes>"
      ]
     },
     "metadata": {
      "needs_background": "light"
     },
     "output_type": "display_data"
    }
   ],
   "source": [
    "display = PrecisionRecallDisplay.from_estimator(clf, transB_feat, transB_targ, name=\"RF - Oversampled\")\n",
    "_ = display.ax_.set_title(\"Precision-Recall curve\")"
   ]
  },
  {
   "cell_type": "code",
   "execution_count": 51,
   "id": "1fa35691",
   "metadata": {},
   "outputs": [
    {
     "data": {
      "image/png": "[encoded data removed]",
      "text/plain": [
       "<Figure size 432x288 with 1 Axes>"
      ]
     },
     "metadata": {
      "needs_background": "light"
     },
     "output_type": "display_data"
    }
   ],
   "source": [
    "display = RocCurveDisplay.from_estimator(clf, transB_feat, transB_targ, name='RF - Oversampled')\n",
    "_ = display.ax_.set_title(\"ROC Curve\")"
   ]
  },
  {
   "cell_type": "markdown",
   "id": "ec9d4afd",
   "metadata": {},
   "source": [
    "The Random Forest Classifier performed best on the OVER sampled file, correctly identifying 84 out of 124 records as fraudulent, while only mislabeling 3 records as fraudulent.  All three methods still had a high number of actual fraud cases labeled as non-fraudulent."
   ]
  },
  {
   "cell_type": "code",
   "execution_count": null,
   "id": "8ecb0206",
   "metadata": {},
   "outputs": [],
   "source": []
  },
  {
   "cell_type": "code",
   "execution_count": null,
   "id": "953a4672",
   "metadata": {},
   "outputs": [],
   "source": []
  },
  {
   "cell_type": "markdown",
   "id": "45c61498",
   "metadata": {},
   "source": [
    "SMOTE - SMOTE stands for Synthetic Minority Oversampling Technique. While the simplistic oversampling approach used in the above code simply repeated existing instances of records from the minority class until the quantity matched the number of the majority class, SMOTE employs a statistical technique that creates new records that are not identical to the existing records.  SMOTE works by choosing a point from the minority class, and then finds a 'nearest neighbor'.  A point is then chosen between the existing point and the neighbor, creating a synthetic NEW data point."
   ]
  },
  {
   "cell_type": "markdown",
   "id": "09f9d66d",
   "metadata": {},
   "source": [
    "SMOTE is available from IMBLEARN, a library of tools specifically designed to assist with imbalanced data.  From https://imbalanced-learn.org/stable/:  \"Imbalanced-learn (imported as imblearn) is an open source, MIT-licensed library relying on scikit-learn (imported as sklearn) and provides tools when dealing with classification with imbalanced classes.\""
   ]
  },
  {
   "cell_type": "code",
   "execution_count": 52,
   "id": "48e1c004",
   "metadata": {},
   "outputs": [],
   "source": [
    "# SMOTE\n",
    "\n",
    "from imblearn.over_sampling import SMOTE"
   ]
  },
  {
   "cell_type": "code",
   "execution_count": 53,
   "id": "b9698429",
   "metadata": {},
   "outputs": [],
   "source": [
    "SMOTE_oversample = SMOTE()\n",
    "\n",
    "# SMOTE created values of the feature and target files\n",
    "X_smote, y_smote = SMOTE_oversample.fit_resample(transA_feat, transA_targ)"
   ]
  },
  {
   "cell_type": "code",
   "execution_count": 54,
   "id": "5b0404e7",
   "metadata": {},
   "outputs": [],
   "source": [
    "# Run all three Classifiers again"
   ]
  },
  {
   "cell_type": "code",
   "execution_count": 55,
   "id": "48fd9a71",
   "metadata": {},
   "outputs": [
    {
     "name": "stdout",
     "output_type": "stream",
     "text": [
      "Accuracy: 0.9975037805812773\n",
      "ROCAUC score: 0.8215590940629932\n",
      "F1 score: 0.39900249376558605\n",
      "Recall score: 0.6451612903225806\n",
      "Confusion Matrix:  \n",
      " [[96225   197]\n",
      " [   44    80]]\n",
      "AUPRC: 0.18678391179493906\n",
      "Predicted # Fraud cases:  277\n",
      "Actual # Fraud cases:  124\n"
     ]
    }
   ],
   "source": [
    "# SMOTE  DECISION TREE\n",
    "\n",
    "clf = DecisionTreeClassifier(random_state=42)\n",
    "\n",
    "clf = clf.fit(X_smote, y_smote)\n",
    "\n",
    "preds = clf.predict(transB_feat)\n",
    "\n",
    "print_results(transB_targ, preds)"
   ]
  },
  {
   "cell_type": "code",
   "execution_count": 56,
   "id": "d37579f2",
   "metadata": {},
   "outputs": [
    {
     "data": {
      "image/png": "[encoded data removed]",
      "text/plain": [
       "<Figure size 432x288 with 1 Axes>"
      ]
     },
     "metadata": {
      "needs_background": "light"
     },
     "output_type": "display_data"
    }
   ],
   "source": [
    "display = PrecisionRecallDisplay.from_estimator(clf, transB_feat, transB_targ, name=\"DT - SMOTE\")\n",
    "_ = display.ax_.set_title(\"Precision-Recall curve\")"
   ]
  },
  {
   "cell_type": "code",
   "execution_count": 57,
   "id": "f5c1fd2a",
   "metadata": {},
   "outputs": [
    {
     "data": {
      "image/png": "[encoded data removed]",
      "text/plain": [
       "<Figure size 432x288 with 1 Axes>"
      ]
     },
     "metadata": {
      "needs_background": "light"
     },
     "output_type": "display_data"
    }
   ],
   "source": [
    "display = RocCurveDisplay.from_estimator(clf, transB_feat, transB_targ, name='DT - SMOTE')\n",
    "_ = display.ax_.set_title(\"ROC Curve\")"
   ]
  },
  {
   "cell_type": "code",
   "execution_count": 58,
   "id": "13a41233",
   "metadata": {},
   "outputs": [
    {
     "name": "stdout",
     "output_type": "stream",
     "text": [
      "Accuracy: 0.9990056553352806\n",
      "ROCAUC score: 0.761904909266457\n",
      "F1 score: 0.575221238938053\n",
      "Recall score: 0.5241935483870968\n",
      "Confusion Matrix:  \n",
      " [[96385    37]\n",
      " [   59    65]]\n",
      "AUPRC: 0.3346560159444204\n",
      "Predicted # Fraud cases:  102\n",
      "Actual # Fraud cases:  124\n"
     ]
    }
   ],
   "source": [
    "# SMOTE  SVC\n",
    "\n",
    "clf = SVC(gamma='auto')\n",
    "\n",
    "clf = clf.fit(X_smote, y_smote)\n",
    "\n",
    "preds = clf.predict(transB_feat)\n",
    "\n",
    "print_results(transB_targ, preds)"
   ]
  },
  {
   "cell_type": "code",
   "execution_count": 59,
   "id": "fb1c6992",
   "metadata": {},
   "outputs": [
    {
     "data": {
      "image/png": "[encoded data removed]",
      "text/plain": [
       "<Figure size 432x288 with 1 Axes>"
      ]
     },
     "metadata": {
      "needs_background": "light"
     },
     "output_type": "display_data"
    }
   ],
   "source": [
    "display = PrecisionRecallDisplay.from_estimator(clf, transB_feat, transB_targ, name=\"SVC - SMOTE\")\n",
    "_ = display.ax_.set_title(\"Precision-Recall curve\")"
   ]
  },
  {
   "cell_type": "code",
   "execution_count": 60,
   "id": "0c6de8b0",
   "metadata": {},
   "outputs": [
    {
     "data": {
      "image/png": "[encoded data removed]",
      "text/plain": [
       "<Figure size 432x288 with 1 Axes>"
      ]
     },
     "metadata": {
      "needs_background": "light"
     },
     "output_type": "display_data"
    }
   ],
   "source": [
    "display = RocCurveDisplay.from_estimator(clf, transB_feat, transB_targ, name='SVC - SMOTE')\n",
    "_ = display.ax_.set_title(\"ROC Curve\")"
   ]
  },
  {
   "cell_type": "code",
   "execution_count": 61,
   "id": "547b377a",
   "metadata": {},
   "outputs": [
    {
     "name": "stdout",
     "output_type": "stream",
     "text": [
      "Accuracy: 0.9995960474799578\n",
      "ROCAUC score: 0.8628772981136015\n",
      "F1 score: 0.8219178082191779\n",
      "Recall score: 0.7258064516129032\n",
      "Confusion Matrix:  \n",
      " [[96417     5]\n",
      " [   34    90]]\n",
      "AUPRC: 0.6879582757897508\n",
      "Predicted # Fraud cases:  95\n",
      "Actual # Fraud cases:  124\n"
     ]
    }
   ],
   "source": [
    "# SMOTE  with Random Forest\n",
    "\n",
    "clf = RandomForestClassifier(criterion = 'entropy')\n",
    "\n",
    "clf = clf.fit(X_smote, y_smote)\n",
    "\n",
    "preds = clf.predict(transB_feat)\n",
    "\n",
    "print_results(transB_targ, preds)"
   ]
  },
  {
   "cell_type": "code",
   "execution_count": 62,
   "id": "42b2dc8a",
   "metadata": {},
   "outputs": [
    {
     "data": {
      "image/png": "[encoded data removed]",
      "text/plain": [
       "<Figure size 432x288 with 1 Axes>"
      ]
     },
     "metadata": {
      "needs_background": "light"
     },
     "output_type": "display_data"
    }
   ],
   "source": [
    "display = PrecisionRecallDisplay.from_estimator(clf, transB_feat, transB_targ, name=\"RF - SMOTE\")\n",
    "_ = display.ax_.set_title(\"Precision-Recall curve\")"
   ]
  },
  {
   "cell_type": "code",
   "execution_count": 63,
   "id": "1f53ee43",
   "metadata": {},
   "outputs": [
    {
     "data": {
      "image/png": "[encoded data removed]",
      "text/plain": [
       "<Figure size 432x288 with 1 Axes>"
      ]
     },
     "metadata": {
      "needs_background": "light"
     },
     "output_type": "display_data"
    }
   ],
   "source": [
    "display = RocCurveDisplay.from_estimator(clf, transB_feat, transB_targ, name='RF - SMOTE')\n",
    "_ = display.ax_.set_title(\"ROC Curve\")"
   ]
  },
  {
   "cell_type": "markdown",
   "id": "79174b58",
   "metadata": {},
   "source": [
    "SMOTE oversampling, classified by a Random Forest Classifier performed best thus far, with 93 correctly identified cases of fraud, 6 predicted cases of fraud that were legitimate, and 31 cases predicted to be OK that were actually fraud.  "
   ]
  },
  {
   "cell_type": "markdown",
   "id": "2303941b",
   "metadata": {},
   "source": [
    "SMOTE with Tomek Links - Combines SMOTE oversampling of the minority class with Tomek Links, which removes members of the majority class that are close to members of the majority class, making it a form of undersampling.  After SMOTE is complete, as described above, members of the majority class are sampled.  If the nearest neighbor to that majority class point is a member of the minority class, the point is removed."
   ]
  },
  {
   "cell_type": "code",
   "execution_count": 68,
   "id": "5152b665",
   "metadata": {},
   "outputs": [],
   "source": [
    "# Import the SMOTE tomek library\n",
    "from imblearn.combine import SMOTETomek"
   ]
  },
  {
   "cell_type": "code",
   "execution_count": 83,
   "id": "8fd50ca2",
   "metadata": {},
   "outputs": [],
   "source": [
    "# Resample the data yet again, using SMOTE-Tomek set for the minority class.  \n",
    "\n",
    "smt = SMOTETomek(sampling_strategy = 'minority', random_state=42)\n",
    "\n",
    "# Create new files for classification testing\n",
    "\n",
    "X_smt, y_smt = smt.fit_resample(transA_feat, transA_targ)"
   ]
  },
  {
   "cell_type": "code",
   "execution_count": 84,
   "id": "cd08d028",
   "metadata": {},
   "outputs": [],
   "source": [
    "# Run all three classifiers again"
   ]
  },
  {
   "cell_type": "code",
   "execution_count": 85,
   "id": "a064d48b",
   "metadata": {},
   "outputs": [
    {
     "name": "stdout",
     "output_type": "stream",
     "text": [
      "Accuracy: 0.997224121144325\n",
      "ROCAUC score: 0.8254461570475484\n",
      "F1 score: 0.3767441860465116\n",
      "Recall score: 0.6532258064516129\n",
      "Confusion Matrix:  \n",
      " [[96197   225]\n",
      " [   43    81]]\n",
      "AUPRC: 0.17335809702022467\n",
      "Predicted # Fraud cases:  306\n",
      "Actual # Fraud cases:  124\n"
     ]
    }
   ],
   "source": [
    "# SMOTE-Tomek  DECISION TREE\n",
    "\n",
    "clf = DecisionTreeClassifier(random_state=42)\n",
    "\n",
    "clf = clf.fit(X_smt, y_smt)\n",
    "\n",
    "preds = clf.predict(transB_feat)\n",
    "\n",
    "print_results(transB_targ, preds)"
   ]
  },
  {
   "cell_type": "code",
   "execution_count": 86,
   "id": "173280ec",
   "metadata": {},
   "outputs": [
    {
     "data": {
      "image/png": "[encoded data removed]",
      "text/plain": [
       "<Figure size 432x288 with 1 Axes>"
      ]
     },
     "metadata": {
      "needs_background": "light"
     },
     "output_type": "display_data"
    }
   ],
   "source": [
    "display = PrecisionRecallDisplay.from_estimator(clf, transB_feat, transB_targ, name=\"DT - SMOTE-Tomek\")\n",
    "_ = display.ax_.set_title(\"Precision-Recall curve\")"
   ]
  },
  {
   "cell_type": "code",
   "execution_count": 87,
   "id": "41deafd9",
   "metadata": {},
   "outputs": [
    {
     "data": {
      "image/png": "[encoded data removed]",
      "text/plain": [
       "<Figure size 432x288 with 1 Axes>"
      ]
     },
     "metadata": {
      "needs_background": "light"
     },
     "output_type": "display_data"
    }
   ],
   "source": [
    "display = RocCurveDisplay.from_estimator(clf, transB_feat, transB_targ, name='DT - SMOTE-Tomek')\n",
    "_ = display.ax_.set_title(\"ROC Curve\")"
   ]
  },
  {
   "cell_type": "code",
   "execution_count": 88,
   "id": "b01d9534",
   "metadata": {},
   "outputs": [
    {
     "name": "stdout",
     "output_type": "stream",
     "text": [
      "Accuracy: 0.9989849398214322\n",
      "ROCAUC score: 0.761894538189317\n",
      "F1 score: 0.5701754385964912\n",
      "Recall score: 0.5241935483870968\n",
      "Confusion Matrix:  \n",
      " [[96383    39]\n",
      " [   59    65]]\n",
      "AUPRC: 0.32823207540046095\n",
      "Predicted # Fraud cases:  104\n",
      "Actual # Fraud cases:  124\n"
     ]
    }
   ],
   "source": [
    "# SMOTE-Tomek  SVC\n",
    "\n",
    "clf = SVC(gamma='auto')\n",
    "\n",
    "clf = clf.fit(X_smt, y_smt)\n",
    "\n",
    "preds = clf.predict(transB_feat)\n",
    "\n",
    "print_results(transB_targ, preds)"
   ]
  },
  {
   "cell_type": "code",
   "execution_count": 89,
   "id": "d3e35321",
   "metadata": {},
   "outputs": [
    {
     "data": {
      "image/png": "[encoded data removed]",
      "text/plain": [
       "<Figure size 432x288 with 1 Axes>"
      ]
     },
     "metadata": {
      "needs_background": "light"
     },
     "output_type": "display_data"
    }
   ],
   "source": [
    "display = PrecisionRecallDisplay.from_estimator(clf, transB_feat, transB_targ, name=\"SVC - SMOTE-Tomek\")\n",
    "_ = display.ax_.set_title(\"Precision-Recall curve\")"
   ]
  },
  {
   "cell_type": "code",
   "execution_count": 90,
   "id": "c4c6576b",
   "metadata": {},
   "outputs": [
    {
     "data": {
      "image/png": "[encoded data removed]",
      "text/plain": [
       "<Figure size 432x288 with 1 Axes>"
      ]
     },
     "metadata": {
      "needs_background": "light"
     },
     "output_type": "display_data"
    }
   ],
   "source": [
    "display = RocCurveDisplay.from_estimator(clf, transB_feat, transB_targ, name='SVC - SMOTE-Tomek')\n",
    "_ = display.ax_.set_title(\"ROC Curve\")"
   ]
  },
  {
   "cell_type": "code",
   "execution_count": 91,
   "id": "2fda1cc2",
   "metadata": {},
   "outputs": [
    {
     "name": "stdout",
     "output_type": "stream",
     "text": [
      "Accuracy: 0.9996374785076544\n",
      "ROCAUC score: 0.8749792578457198\n",
      "F1 score: 0.841628959276018\n",
      "Recall score: 0.75\n",
      "Confusion Matrix:  \n",
      " [[96418     4]\n",
      " [   31    93]]\n",
      "AUPRC: 0.7193932554131026\n",
      "Predicted # Fraud cases:  97\n",
      "Actual # Fraud cases:  124\n"
     ]
    }
   ],
   "source": [
    "# SMOTE-Tomek  Random Forest\n",
    "\n",
    "clf = RandomForestClassifier(criterion = 'entropy')\n",
    "\n",
    "clf = clf.fit(X_smt, y_smt)\n",
    "\n",
    "preds = clf.predict(transB_feat)\n",
    "\n",
    "print_results(transB_targ, preds)"
   ]
  },
  {
   "cell_type": "code",
   "execution_count": 92,
   "id": "4268a5c2",
   "metadata": {},
   "outputs": [
    {
     "data": {
      "image/png": "[encoded data removed]",
      "text/plain": [
       "<Figure size 432x288 with 1 Axes>"
      ]
     },
     "metadata": {
      "needs_background": "light"
     },
     "output_type": "display_data"
    }
   ],
   "source": [
    "display = PrecisionRecallDisplay.from_estimator(clf, transB_feat, transB_targ, name=\"RF - SMOTE-Tomek\")\n",
    "_ = display.ax_.set_title(\"Precision-Recall curve\")"
   ]
  },
  {
   "cell_type": "code",
   "execution_count": 93,
   "id": "78161457",
   "metadata": {},
   "outputs": [
    {
     "data": {
      "image/png": "[encoded data removed]",
      "text/plain": [
       "<Figure size 432x288 with 1 Axes>"
      ]
     },
     "metadata": {
      "needs_background": "light"
     },
     "output_type": "display_data"
    }
   ],
   "source": [
    "display = RocCurveDisplay.from_estimator(clf, transB_feat, transB_targ, name='RF - SMOTE-Tomek')\n",
    "_ = display.ax_.set_title(\"ROC Curve\")"
   ]
  },
  {
   "cell_type": "code",
   "execution_count": null,
   "id": "fe792b7e",
   "metadata": {},
   "outputs": [],
   "source": [
    "# About 90 minutes to complete the above."
   ]
  },
  {
   "cell_type": "code",
   "execution_count": null,
   "id": "882d138a",
   "metadata": {},
   "outputs": [],
   "source": []
  },
  {
   "cell_type": "markdown",
   "id": "7cf6b41c",
   "metadata": {},
   "source": [
    "Consistently, the Random Forest Classifier has outperformed the Decision Tree and Support Vector Classifiers.  We can attempt to hypertune parameters for Random Forest."
   ]
  },
  {
   "cell_type": "code",
   "execution_count": 94,
   "id": "d233d3d6",
   "metadata": {},
   "outputs": [],
   "source": [
    "rf = RandomForestClassifier(criterion = 'entropy')"
   ]
  },
  {
   "cell_type": "code",
   "execution_count": 95,
   "id": "a980b65a",
   "metadata": {},
   "outputs": [
    {
     "data": {
      "text/plain": [
       "{'bootstrap': True,\n",
       " 'ccp_alpha': 0.0,\n",
       " 'class_weight': None,\n",
       " 'criterion': 'entropy',\n",
       " 'max_depth': None,\n",
       " 'max_features': 'auto',\n",
       " 'max_leaf_nodes': None,\n",
       " 'max_samples': None,\n",
       " 'min_impurity_decrease': 0.0,\n",
       " 'min_samples_leaf': 1,\n",
       " 'min_samples_split': 2,\n",
       " 'min_weight_fraction_leaf': 0.0,\n",
       " 'n_estimators': 100,\n",
       " 'n_jobs': None,\n",
       " 'oob_score': False,\n",
       " 'random_state': None,\n",
       " 'verbose': 0,\n",
       " 'warm_start': False}"
      ]
     },
     "execution_count": 95,
     "metadata": {},
     "output_type": "execute_result"
    }
   ],
   "source": [
    "rf.get_params()"
   ]
  },
  {
   "cell_type": "code",
   "execution_count": 96,
   "id": "1095cc5a",
   "metadata": {},
   "outputs": [],
   "source": [
    "from sklearn.model_selection import GridSearchCV"
   ]
  },
  {
   "cell_type": "code",
   "execution_count": 97,
   "id": "4db3c6d3",
   "metadata": {},
   "outputs": [
    {
     "name": "stdout",
     "output_type": "stream",
     "text": [
      "Best: [0.93232585 0.9323019  0.93229391 0.97869    0.9787033  0.97881507\n",
      " 0.99970196 0.99969131 0.99972325 0.93231787 0.93234448 0.93269308\n",
      " 0.97952292 0.97963203 0.97945639 0.99967003 0.99970196 0.99970196], using {'criterion': 'entropy', 'max_depth': 16, 'n_estimators': 256}\n"
     ]
    },
    {
     "data": {
      "text/html": [
       "<div>\n",
       "<style scoped>\n",
       "    .dataframe tbody tr th:only-of-type {\n",
       "        vertical-align: middle;\n",
       "    }\n",
       "\n",
       "    .dataframe tbody tr th {\n",
       "        vertical-align: top;\n",
       "    }\n",
       "\n",
       "    .dataframe thead th {\n",
       "        text-align: right;\n",
       "    }\n",
       "</style>\n",
       "<table border=\"1\" class=\"dataframe\">\n",
       "  <thead>\n",
       "    <tr style=\"text-align: right;\">\n",
       "      <th></th>\n",
       "      <th>mean_fit_time</th>\n",
       "      <th>std_fit_time</th>\n",
       "      <th>mean_score_time</th>\n",
       "      <th>std_score_time</th>\n",
       "      <th>param_criterion</th>\n",
       "      <th>param_max_depth</th>\n",
       "      <th>param_n_estimators</th>\n",
       "      <th>params</th>\n",
       "      <th>split0_test_score</th>\n",
       "      <th>split1_test_score</th>\n",
       "      <th>split2_test_score</th>\n",
       "      <th>split3_test_score</th>\n",
       "      <th>split4_test_score</th>\n",
       "      <th>mean_test_score</th>\n",
       "      <th>std_test_score</th>\n",
       "      <th>rank_test_score</th>\n",
       "    </tr>\n",
       "  </thead>\n",
       "  <tbody>\n",
       "    <tr>\n",
       "      <th>0</th>\n",
       "      <td>5.282642</td>\n",
       "      <td>0.556745</td>\n",
       "      <td>0.066401</td>\n",
       "      <td>0.004373</td>\n",
       "      <td>entropy</td>\n",
       "      <td>2</td>\n",
       "      <td>64</td>\n",
       "      <td>{'criterion': 'entropy', 'max_depth': 2, 'n_es...</td>\n",
       "      <td>0.931438</td>\n",
       "      <td>0.932688</td>\n",
       "      <td>0.933220</td>\n",
       "      <td>0.932967</td>\n",
       "      <td>0.931317</td>\n",
       "      <td>0.932326</td>\n",
       "      <td>0.000793</td>\n",
       "      <td>15</td>\n",
       "    </tr>\n",
       "    <tr>\n",
       "      <th>1</th>\n",
       "      <td>11.709797</td>\n",
       "      <td>0.858306</td>\n",
       "      <td>0.102142</td>\n",
       "      <td>0.004666</td>\n",
       "      <td>entropy</td>\n",
       "      <td>2</td>\n",
       "      <td>128</td>\n",
       "      <td>{'criterion': 'entropy', 'max_depth': 2, 'n_es...</td>\n",
       "      <td>0.931318</td>\n",
       "      <td>0.932621</td>\n",
       "      <td>0.933606</td>\n",
       "      <td>0.932874</td>\n",
       "      <td>0.931091</td>\n",
       "      <td>0.932302</td>\n",
       "      <td>0.000955</td>\n",
       "      <td>17</td>\n",
       "    </tr>\n",
       "    <tr>\n",
       "      <th>2</th>\n",
       "      <td>20.308843</td>\n",
       "      <td>0.746550</td>\n",
       "      <td>0.167031</td>\n",
       "      <td>0.002437</td>\n",
       "      <td>entropy</td>\n",
       "      <td>2</td>\n",
       "      <td>256</td>\n",
       "      <td>{'criterion': 'entropy', 'max_depth': 2, 'n_es...</td>\n",
       "      <td>0.931411</td>\n",
       "      <td>0.932661</td>\n",
       "      <td>0.933326</td>\n",
       "      <td>0.932874</td>\n",
       "      <td>0.931197</td>\n",
       "      <td>0.932294</td>\n",
       "      <td>0.000839</td>\n",
       "      <td>18</td>\n",
       "    </tr>\n",
       "    <tr>\n",
       "      <th>3</th>\n",
       "      <td>16.282504</td>\n",
       "      <td>0.355513</td>\n",
       "      <td>0.084316</td>\n",
       "      <td>0.001583</td>\n",
       "      <td>entropy</td>\n",
       "      <td>8</td>\n",
       "      <td>64</td>\n",
       "      <td>{'criterion': 'entropy', 'max_depth': 8, 'n_es...</td>\n",
       "      <td>0.979976</td>\n",
       "      <td>0.978392</td>\n",
       "      <td>0.977274</td>\n",
       "      <td>0.977860</td>\n",
       "      <td>0.979949</td>\n",
       "      <td>0.978690</td>\n",
       "      <td>0.001097</td>\n",
       "      <td>12</td>\n",
       "    </tr>\n",
       "    <tr>\n",
       "      <th>4</th>\n",
       "      <td>31.630819</td>\n",
       "      <td>0.336026</td>\n",
       "      <td>0.133289</td>\n",
       "      <td>0.001131</td>\n",
       "      <td>entropy</td>\n",
       "      <td>8</td>\n",
       "      <td>128</td>\n",
       "      <td>{'criterion': 'entropy', 'max_depth': 8, 'n_es...</td>\n",
       "      <td>0.979523</td>\n",
       "      <td>0.976423</td>\n",
       "      <td>0.979031</td>\n",
       "      <td>0.977940</td>\n",
       "      <td>0.980601</td>\n",
       "      <td>0.978703</td>\n",
       "      <td>0.001426</td>\n",
       "      <td>11</td>\n",
       "    </tr>\n",
       "    <tr>\n",
       "      <th>5</th>\n",
       "      <td>62.272700</td>\n",
       "      <td>0.667194</td>\n",
       "      <td>0.239196</td>\n",
       "      <td>0.004647</td>\n",
       "      <td>entropy</td>\n",
       "      <td>8</td>\n",
       "      <td>256</td>\n",
       "      <td>{'criterion': 'entropy', 'max_depth': 8, 'n_es...</td>\n",
       "      <td>0.979989</td>\n",
       "      <td>0.977740</td>\n",
       "      <td>0.977434</td>\n",
       "      <td>0.978685</td>\n",
       "      <td>0.980228</td>\n",
       "      <td>0.978815</td>\n",
       "      <td>0.001136</td>\n",
       "      <td>10</td>\n",
       "    </tr>\n",
       "    <tr>\n",
       "      <th>6</th>\n",
       "      <td>19.030412</td>\n",
       "      <td>0.503756</td>\n",
       "      <td>0.090985</td>\n",
       "      <td>0.003644</td>\n",
       "      <td>entropy</td>\n",
       "      <td>16</td>\n",
       "      <td>64</td>\n",
       "      <td>{'criterion': 'entropy', 'max_depth': 16, 'n_e...</td>\n",
       "      <td>0.999348</td>\n",
       "      <td>0.999641</td>\n",
       "      <td>0.999960</td>\n",
       "      <td>0.999814</td>\n",
       "      <td>0.999747</td>\n",
       "      <td>0.999702</td>\n",
       "      <td>0.000205</td>\n",
       "      <td>2</td>\n",
       "    </tr>\n",
       "    <tr>\n",
       "      <th>7</th>\n",
       "      <td>38.049537</td>\n",
       "      <td>0.739430</td>\n",
       "      <td>0.148333</td>\n",
       "      <td>0.001704</td>\n",
       "      <td>entropy</td>\n",
       "      <td>16</td>\n",
       "      <td>128</td>\n",
       "      <td>{'criterion': 'entropy', 'max_depth': 16, 'n_e...</td>\n",
       "      <td>0.999335</td>\n",
       "      <td>0.999667</td>\n",
       "      <td>0.999920</td>\n",
       "      <td>0.999814</td>\n",
       "      <td>0.999721</td>\n",
       "      <td>0.999691</td>\n",
       "      <td>0.000198</td>\n",
       "      <td>5</td>\n",
       "    </tr>\n",
       "    <tr>\n",
       "      <th>8</th>\n",
       "      <td>75.516470</td>\n",
       "      <td>1.539013</td>\n",
       "      <td>0.274576</td>\n",
       "      <td>0.012924</td>\n",
       "      <td>entropy</td>\n",
       "      <td>16</td>\n",
       "      <td>256</td>\n",
       "      <td>{'criterion': 'entropy', 'max_depth': 16, 'n_e...</td>\n",
       "      <td>0.999415</td>\n",
       "      <td>0.999681</td>\n",
       "      <td>0.999894</td>\n",
       "      <td>0.999854</td>\n",
       "      <td>0.999774</td>\n",
       "      <td>0.999723</td>\n",
       "      <td>0.000171</td>\n",
       "      <td>1</td>\n",
       "    </tr>\n",
       "    <tr>\n",
       "      <th>9</th>\n",
       "      <td>4.187655</td>\n",
       "      <td>0.052362</td>\n",
       "      <td>0.063438</td>\n",
       "      <td>0.002153</td>\n",
       "      <td>gini</td>\n",
       "      <td>2</td>\n",
       "      <td>64</td>\n",
       "      <td>{'criterion': 'gini', 'max_depth': 2, 'n_estim...</td>\n",
       "      <td>0.930679</td>\n",
       "      <td>0.933020</td>\n",
       "      <td>0.933646</td>\n",
       "      <td>0.933140</td>\n",
       "      <td>0.931104</td>\n",
       "      <td>0.932318</td>\n",
       "      <td>0.001191</td>\n",
       "      <td>16</td>\n",
       "    </tr>\n",
       "    <tr>\n",
       "      <th>10</th>\n",
       "      <td>8.155338</td>\n",
       "      <td>0.060833</td>\n",
       "      <td>0.094532</td>\n",
       "      <td>0.001597</td>\n",
       "      <td>gini</td>\n",
       "      <td>2</td>\n",
       "      <td>128</td>\n",
       "      <td>{'criterion': 'gini', 'max_depth': 2, 'n_estim...</td>\n",
       "      <td>0.931305</td>\n",
       "      <td>0.932674</td>\n",
       "      <td>0.934045</td>\n",
       "      <td>0.932794</td>\n",
       "      <td>0.930905</td>\n",
       "      <td>0.932344</td>\n",
       "      <td>0.001127</td>\n",
       "      <td>14</td>\n",
       "    </tr>\n",
       "    <tr>\n",
       "      <th>11</th>\n",
       "      <td>16.258566</td>\n",
       "      <td>0.156374</td>\n",
       "      <td>0.159462</td>\n",
       "      <td>0.002711</td>\n",
       "      <td>gini</td>\n",
       "      <td>2</td>\n",
       "      <td>256</td>\n",
       "      <td>{'criterion': 'gini', 'max_depth': 2, 'n_estim...</td>\n",
       "      <td>0.931544</td>\n",
       "      <td>0.932741</td>\n",
       "      <td>0.933685</td>\n",
       "      <td>0.933020</td>\n",
       "      <td>0.932475</td>\n",
       "      <td>0.932693</td>\n",
       "      <td>0.000702</td>\n",
       "      <td>13</td>\n",
       "    </tr>\n",
       "    <tr>\n",
       "      <th>12</th>\n",
       "      <td>14.200594</td>\n",
       "      <td>0.459492</td>\n",
       "      <td>0.079214</td>\n",
       "      <td>0.002753</td>\n",
       "      <td>gini</td>\n",
       "      <td>8</td>\n",
       "      <td>64</td>\n",
       "      <td>{'criterion': 'gini', 'max_depth': 8, 'n_estim...</td>\n",
       "      <td>0.979071</td>\n",
       "      <td>0.979789</td>\n",
       "      <td>0.979416</td>\n",
       "      <td>0.980015</td>\n",
       "      <td>0.979323</td>\n",
       "      <td>0.979523</td>\n",
       "      <td>0.000337</td>\n",
       "      <td>8</td>\n",
       "    </tr>\n",
       "    <tr>\n",
       "      <th>13</th>\n",
       "      <td>27.448328</td>\n",
       "      <td>0.461648</td>\n",
       "      <td>0.125822</td>\n",
       "      <td>0.001551</td>\n",
       "      <td>gini</td>\n",
       "      <td>8</td>\n",
       "      <td>128</td>\n",
       "      <td>{'criterion': 'gini', 'max_depth': 8, 'n_estim...</td>\n",
       "      <td>0.979151</td>\n",
       "      <td>0.979789</td>\n",
       "      <td>0.979456</td>\n",
       "      <td>0.980082</td>\n",
       "      <td>0.979683</td>\n",
       "      <td>0.979632</td>\n",
       "      <td>0.000314</td>\n",
       "      <td>7</td>\n",
       "    </tr>\n",
       "    <tr>\n",
       "      <th>14</th>\n",
       "      <td>54.168821</td>\n",
       "      <td>0.543868</td>\n",
       "      <td>0.222682</td>\n",
       "      <td>0.004576</td>\n",
       "      <td>gini</td>\n",
       "      <td>8</td>\n",
       "      <td>256</td>\n",
       "      <td>{'criterion': 'gini', 'max_depth': 8, 'n_estim...</td>\n",
       "      <td>0.979669</td>\n",
       "      <td>0.981080</td>\n",
       "      <td>0.978738</td>\n",
       "      <td>0.978738</td>\n",
       "      <td>0.979057</td>\n",
       "      <td>0.979456</td>\n",
       "      <td>0.000880</td>\n",
       "      <td>9</td>\n",
       "    </tr>\n",
       "    <tr>\n",
       "      <th>15</th>\n",
       "      <td>21.183445</td>\n",
       "      <td>0.391234</td>\n",
       "      <td>0.094836</td>\n",
       "      <td>0.001311</td>\n",
       "      <td>gini</td>\n",
       "      <td>16</td>\n",
       "      <td>64</td>\n",
       "      <td>{'criterion': 'gini', 'max_depth': 16, 'n_esti...</td>\n",
       "      <td>0.999415</td>\n",
       "      <td>0.999734</td>\n",
       "      <td>0.999761</td>\n",
       "      <td>0.999761</td>\n",
       "      <td>0.999681</td>\n",
       "      <td>0.999670</td>\n",
       "      <td>0.000131</td>\n",
       "      <td>6</td>\n",
       "    </tr>\n",
       "    <tr>\n",
       "      <th>16</th>\n",
       "      <td>41.391439</td>\n",
       "      <td>0.158219</td>\n",
       "      <td>0.155897</td>\n",
       "      <td>0.001962</td>\n",
       "      <td>gini</td>\n",
       "      <td>16</td>\n",
       "      <td>128</td>\n",
       "      <td>{'criterion': 'gini', 'max_depth': 16, 'n_esti...</td>\n",
       "      <td>0.999375</td>\n",
       "      <td>0.999667</td>\n",
       "      <td>0.999854</td>\n",
       "      <td>0.999827</td>\n",
       "      <td>0.999787</td>\n",
       "      <td>0.999702</td>\n",
       "      <td>0.000176</td>\n",
       "      <td>3</td>\n",
       "    </tr>\n",
       "    <tr>\n",
       "      <th>17</th>\n",
       "      <td>82.566323</td>\n",
       "      <td>0.374155</td>\n",
       "      <td>0.285805</td>\n",
       "      <td>0.003377</td>\n",
       "      <td>gini</td>\n",
       "      <td>16</td>\n",
       "      <td>256</td>\n",
       "      <td>{'criterion': 'gini', 'max_depth': 16, 'n_esti...</td>\n",
       "      <td>0.999428</td>\n",
       "      <td>0.999641</td>\n",
       "      <td>0.999867</td>\n",
       "      <td>0.999800</td>\n",
       "      <td>0.999774</td>\n",
       "      <td>0.999702</td>\n",
       "      <td>0.000156</td>\n",
       "      <td>4</td>\n",
       "    </tr>\n",
       "  </tbody>\n",
       "</table>\n",
       "</div>"
      ],
      "text/plain": [
       "    mean_fit_time  std_fit_time  mean_score_time  std_score_time  \\\n",
       "0        5.282642      0.556745         0.066401        0.004373   \n",
       "1       11.709797      0.858306         0.102142        0.004666   \n",
       "2       20.308843      0.746550         0.167031        0.002437   \n",
       "3       16.282504      0.355513         0.084316        0.001583   \n",
       "4       31.630819      0.336026         0.133289        0.001131   \n",
       "5       62.272700      0.667194         0.239196        0.004647   \n",
       "6       19.030412      0.503756         0.090985        0.003644   \n",
       "7       38.049537      0.739430         0.148333        0.001704   \n",
       "8       75.516470      1.539013         0.274576        0.012924   \n",
       "9        4.187655      0.052362         0.063438        0.002153   \n",
       "10       8.155338      0.060833         0.094532        0.001597   \n",
       "11      16.258566      0.156374         0.159462        0.002711   \n",
       "12      14.200594      0.459492         0.079214        0.002753   \n",
       "13      27.448328      0.461648         0.125822        0.001551   \n",
       "14      54.168821      0.543868         0.222682        0.004576   \n",
       "15      21.183445      0.391234         0.094836        0.001311   \n",
       "16      41.391439      0.158219         0.155897        0.001962   \n",
       "17      82.566323      0.374155         0.285805        0.003377   \n",
       "\n",
       "   param_criterion param_max_depth param_n_estimators  \\\n",
       "0          entropy               2                 64   \n",
       "1          entropy               2                128   \n",
       "2          entropy               2                256   \n",
       "3          entropy               8                 64   \n",
       "4          entropy               8                128   \n",
       "5          entropy               8                256   \n",
       "6          entropy              16                 64   \n",
       "7          entropy              16                128   \n",
       "8          entropy              16                256   \n",
       "9             gini               2                 64   \n",
       "10            gini               2                128   \n",
       "11            gini               2                256   \n",
       "12            gini               8                 64   \n",
       "13            gini               8                128   \n",
       "14            gini               8                256   \n",
       "15            gini              16                 64   \n",
       "16            gini              16                128   \n",
       "17            gini              16                256   \n",
       "\n",
       "                                               params  split0_test_score  \\\n",
       "0   {'criterion': 'entropy', 'max_depth': 2, 'n_es...           0.931438   \n",
       "1   {'criterion': 'entropy', 'max_depth': 2, 'n_es...           0.931318   \n",
       "2   {'criterion': 'entropy', 'max_depth': 2, 'n_es...           0.931411   \n",
       "3   {'criterion': 'entropy', 'max_depth': 8, 'n_es...           0.979976   \n",
       "4   {'criterion': 'entropy', 'max_depth': 8, 'n_es...           0.979523   \n",
       "5   {'criterion': 'entropy', 'max_depth': 8, 'n_es...           0.979989   \n",
       "6   {'criterion': 'entropy', 'max_depth': 16, 'n_e...           0.999348   \n",
       "7   {'criterion': 'entropy', 'max_depth': 16, 'n_e...           0.999335   \n",
       "8   {'criterion': 'entropy', 'max_depth': 16, 'n_e...           0.999415   \n",
       "9   {'criterion': 'gini', 'max_depth': 2, 'n_estim...           0.930679   \n",
       "10  {'criterion': 'gini', 'max_depth': 2, 'n_estim...           0.931305   \n",
       "11  {'criterion': 'gini', 'max_depth': 2, 'n_estim...           0.931544   \n",
       "12  {'criterion': 'gini', 'max_depth': 8, 'n_estim...           0.979071   \n",
       "13  {'criterion': 'gini', 'max_depth': 8, 'n_estim...           0.979151   \n",
       "14  {'criterion': 'gini', 'max_depth': 8, 'n_estim...           0.979669   \n",
       "15  {'criterion': 'gini', 'max_depth': 16, 'n_esti...           0.999415   \n",
       "16  {'criterion': 'gini', 'max_depth': 16, 'n_esti...           0.999375   \n",
       "17  {'criterion': 'gini', 'max_depth': 16, 'n_esti...           0.999428   \n",
       "\n",
       "    split1_test_score  split2_test_score  split3_test_score  \\\n",
       "0            0.932688           0.933220           0.932967   \n",
       "1            0.932621           0.933606           0.932874   \n",
       "2            0.932661           0.933326           0.932874   \n",
       "3            0.978392           0.977274           0.977860   \n",
       "4            0.976423           0.979031           0.977940   \n",
       "5            0.977740           0.977434           0.978685   \n",
       "6            0.999641           0.999960           0.999814   \n",
       "7            0.999667           0.999920           0.999814   \n",
       "8            0.999681           0.999894           0.999854   \n",
       "9            0.933020           0.933646           0.933140   \n",
       "10           0.932674           0.934045           0.932794   \n",
       "11           0.932741           0.933685           0.933020   \n",
       "12           0.979789           0.979416           0.980015   \n",
       "13           0.979789           0.979456           0.980082   \n",
       "14           0.981080           0.978738           0.978738   \n",
       "15           0.999734           0.999761           0.999761   \n",
       "16           0.999667           0.999854           0.999827   \n",
       "17           0.999641           0.999867           0.999800   \n",
       "\n",
       "    split4_test_score  mean_test_score  std_test_score  rank_test_score  \n",
       "0            0.931317         0.932326        0.000793               15  \n",
       "1            0.931091         0.932302        0.000955               17  \n",
       "2            0.931197         0.932294        0.000839               18  \n",
       "3            0.979949         0.978690        0.001097               12  \n",
       "4            0.980601         0.978703        0.001426               11  \n",
       "5            0.980228         0.978815        0.001136               10  \n",
       "6            0.999747         0.999702        0.000205                2  \n",
       "7            0.999721         0.999691        0.000198                5  \n",
       "8            0.999774         0.999723        0.000171                1  \n",
       "9            0.931104         0.932318        0.001191               16  \n",
       "10           0.930905         0.932344        0.001127               14  \n",
       "11           0.932475         0.932693        0.000702               13  \n",
       "12           0.979323         0.979523        0.000337                8  \n",
       "13           0.979683         0.979632        0.000314                7  \n",
       "14           0.979057         0.979456        0.000880                9  \n",
       "15           0.999681         0.999670        0.000131                6  \n",
       "16           0.999787         0.999702        0.000176                3  \n",
       "17           0.999774         0.999702        0.000156                4  "
      ]
     },
     "execution_count": 97,
     "metadata": {},
     "output_type": "execute_result"
    }
   ],
   "source": [
    "# Define Parameters\n",
    "max_depth=[2, 8, 16]  # none is the default\n",
    "n_estimators = [64, 128, 256]  # 100 is the default\n",
    "criterion = ['entropy', 'gini']  # entropy is default\n",
    "\n",
    "param_grid = dict(max_depth=max_depth, n_estimators=n_estimators, criterion=criterion)\n",
    "\n",
    "# Build the grid search\n",
    "dfrst = RandomForestClassifier(n_estimators=n_estimators, max_depth=max_depth, n_jobs=-1)\n",
    "grid = GridSearchCV(estimator=dfrst, param_grid=param_grid, cv = 5)\n",
    "grid_results = grid.fit(X_smt, y_smt)\n",
    "\n",
    "# Summarize the results in a readable format\n",
    "print(\"Best: {0}, using {1}\".format(grid_results.cv_results_['mean_test_score'], grid_results.best_params_))\n",
    "results_df = pd.DataFrame(grid_results.cv_results_)\n",
    "results_df"
   ]
  },
  {
   "cell_type": "code",
   "execution_count": null,
   "id": "a21518e1",
   "metadata": {},
   "outputs": [],
   "source": [
    "# starting at 4:50pm  --  finished at 6:05"
   ]
  },
  {
   "cell_type": "code",
   "execution_count": null,
   "id": "08676f98",
   "metadata": {},
   "outputs": [],
   "source": []
  },
  {
   "cell_type": "code",
   "execution_count": 98,
   "id": "f42cf9b8",
   "metadata": {},
   "outputs": [
    {
     "name": "stdout",
     "output_type": "stream",
     "text": [
      "Accuracy: 0.9995960474799578\n",
      "ROCAUC score: 0.8709314431654936\n",
      "F1 score: 0.8251121076233184\n",
      "Recall score: 0.7419354838709677\n",
      "Confusion Matrix:  \n",
      " [[96415     7]\n",
      " [   32    92]]\n",
      "AUPRC: 0.6898068473743917\n",
      "Predicted # Fraud cases:  99\n",
      "Actual # Fraud cases:  124\n"
     ]
    }
   ],
   "source": [
    "# See if that helps!\n",
    "\n",
    "clf = RandomForestClassifier(criterion = 'entropy', max_depth = 16, n_estimators = 256)\n",
    "\n",
    "clf = clf.fit(X_smt, y_smt)\n",
    "\n",
    "preds = clf.predict(transB_feat)\n",
    "\n",
    "print_results(transB_targ, preds)"
   ]
  },
  {
   "cell_type": "code",
   "execution_count": 99,
   "id": "da0e8447",
   "metadata": {},
   "outputs": [
    {
     "data": {
      "image/png": "[encoded data removed]",
      "text/plain": [
       "<Figure size 432x288 with 1 Axes>"
      ]
     },
     "metadata": {
      "needs_background": "light"
     },
     "output_type": "display_data"
    }
   ],
   "source": [
    "display = PrecisionRecallDisplay.from_estimator(clf, transB_feat, transB_targ, name=\"RF - SMOTE-Tomek\")\n",
    "_ = display.ax_.set_title(\"Precision-Recall curve\")"
   ]
  },
  {
   "cell_type": "code",
   "execution_count": 100,
   "id": "4118352b",
   "metadata": {},
   "outputs": [
    {
     "data": {
      "image/png": "[encoded data removed]",
      "text/plain": [
       "<Figure size 432x288 with 1 Axes>"
      ]
     },
     "metadata": {
      "needs_background": "light"
     },
     "output_type": "display_data"
    }
   ],
   "source": [
    "display = RocCurveDisplay.from_estimator(clf, transB_feat, transB_targ, name='RF - SMOTE-Tomek')\n",
    "_ = display.ax_.set_title(\"ROC Curve\")"
   ]
  },
  {
   "cell_type": "code",
   "execution_count": null,
   "id": "11360eb0",
   "metadata": {},
   "outputs": [],
   "source": []
  },
  {
   "cell_type": "markdown",
   "id": "47af2fdd",
   "metadata": {},
   "source": [
    "The tuning DID NOT exactly help.  However, the max_depth param defaults to 'None', which will run until finishing regardless of the depth.  I am going to change that back to 'None', but leave the n_estimators at 256 - the default is 100.  If I have time, I will rerun the above with THOSE params."
   ]
  },
  {
   "cell_type": "code",
   "execution_count": null,
   "id": "f1f2b285",
   "metadata": {},
   "outputs": [],
   "source": []
  },
  {
   "cell_type": "markdown",
   "id": "cb7ef7ae",
   "metadata": {},
   "source": []
  },
  {
   "cell_type": "code",
   "execution_count": 101,
   "id": "89bd3b6b",
   "metadata": {},
   "outputs": [
    {
     "data": {
      "text/html": [
       "<div>\n",
       "<style scoped>\n",
       "    .dataframe tbody tr th:only-of-type {\n",
       "        vertical-align: middle;\n",
       "    }\n",
       "\n",
       "    .dataframe tbody tr th {\n",
       "        vertical-align: top;\n",
       "    }\n",
       "\n",
       "    .dataframe thead th {\n",
       "        text-align: right;\n",
       "    }\n",
       "</style>\n",
       "<table border=\"1\" class=\"dataframe\">\n",
       "  <thead>\n",
       "    <tr style=\"text-align: right;\">\n",
       "      <th></th>\n",
       "      <th>V1</th>\n",
       "      <th>V2</th>\n",
       "      <th>V3</th>\n",
       "      <th>V4</th>\n",
       "      <th>V5</th>\n",
       "      <th>V6</th>\n",
       "      <th>V7</th>\n",
       "      <th>V8</th>\n",
       "      <th>V9</th>\n",
       "      <th>V10</th>\n",
       "      <th>...</th>\n",
       "      <th>V21</th>\n",
       "      <th>V22</th>\n",
       "      <th>V23</th>\n",
       "      <th>V24</th>\n",
       "      <th>V25</th>\n",
       "      <th>V26</th>\n",
       "      <th>V27</th>\n",
       "      <th>V28</th>\n",
       "      <th>Class</th>\n",
       "      <th>Amt</th>\n",
       "    </tr>\n",
       "  </thead>\n",
       "  <tbody>\n",
       "    <tr>\n",
       "      <th>0</th>\n",
       "      <td>-1.359807</td>\n",
       "      <td>-0.072781</td>\n",
       "      <td>2.536347</td>\n",
       "      <td>1.378155</td>\n",
       "      <td>-0.338321</td>\n",
       "      <td>0.462388</td>\n",
       "      <td>0.239599</td>\n",
       "      <td>0.098698</td>\n",
       "      <td>0.363787</td>\n",
       "      <td>0.090794</td>\n",
       "      <td>...</td>\n",
       "      <td>-0.018307</td>\n",
       "      <td>0.277838</td>\n",
       "      <td>-0.110474</td>\n",
       "      <td>0.066928</td>\n",
       "      <td>0.128539</td>\n",
       "      <td>-0.189115</td>\n",
       "      <td>0.133558</td>\n",
       "      <td>-0.021053</td>\n",
       "      <td>0</td>\n",
       "      <td>0.244887</td>\n",
       "    </tr>\n",
       "    <tr>\n",
       "      <th>1</th>\n",
       "      <td>1.191857</td>\n",
       "      <td>0.266151</td>\n",
       "      <td>0.166480</td>\n",
       "      <td>0.448154</td>\n",
       "      <td>0.060018</td>\n",
       "      <td>-0.082361</td>\n",
       "      <td>-0.078803</td>\n",
       "      <td>0.085102</td>\n",
       "      <td>-0.255425</td>\n",
       "      <td>-0.166974</td>\n",
       "      <td>...</td>\n",
       "      <td>-0.225775</td>\n",
       "      <td>-0.638672</td>\n",
       "      <td>0.101288</td>\n",
       "      <td>-0.339846</td>\n",
       "      <td>0.167170</td>\n",
       "      <td>0.125895</td>\n",
       "      <td>-0.008983</td>\n",
       "      <td>0.014724</td>\n",
       "      <td>0</td>\n",
       "      <td>-0.348685</td>\n",
       "    </tr>\n",
       "    <tr>\n",
       "      <th>2</th>\n",
       "      <td>-1.358354</td>\n",
       "      <td>-1.340163</td>\n",
       "      <td>1.773209</td>\n",
       "      <td>0.379780</td>\n",
       "      <td>-0.503198</td>\n",
       "      <td>1.800499</td>\n",
       "      <td>0.791461</td>\n",
       "      <td>0.247676</td>\n",
       "      <td>-1.514654</td>\n",
       "      <td>0.207643</td>\n",
       "      <td>...</td>\n",
       "      <td>0.247998</td>\n",
       "      <td>0.771679</td>\n",
       "      <td>0.909412</td>\n",
       "      <td>-0.689281</td>\n",
       "      <td>-0.327642</td>\n",
       "      <td>-0.139097</td>\n",
       "      <td>-0.055353</td>\n",
       "      <td>-0.059752</td>\n",
       "      <td>0</td>\n",
       "      <td>1.170169</td>\n",
       "    </tr>\n",
       "    <tr>\n",
       "      <th>3</th>\n",
       "      <td>-0.966272</td>\n",
       "      <td>-0.185226</td>\n",
       "      <td>1.792993</td>\n",
       "      <td>-0.863291</td>\n",
       "      <td>-0.010309</td>\n",
       "      <td>1.247203</td>\n",
       "      <td>0.237609</td>\n",
       "      <td>0.377436</td>\n",
       "      <td>-1.387024</td>\n",
       "      <td>-0.054952</td>\n",
       "      <td>...</td>\n",
       "      <td>-0.108300</td>\n",
       "      <td>0.005274</td>\n",
       "      <td>-0.190321</td>\n",
       "      <td>-1.175575</td>\n",
       "      <td>0.647376</td>\n",
       "      <td>-0.221929</td>\n",
       "      <td>0.062723</td>\n",
       "      <td>0.061458</td>\n",
       "      <td>0</td>\n",
       "      <td>0.139366</td>\n",
       "    </tr>\n",
       "    <tr>\n",
       "      <th>4</th>\n",
       "      <td>-1.158233</td>\n",
       "      <td>0.877737</td>\n",
       "      <td>1.548718</td>\n",
       "      <td>0.403034</td>\n",
       "      <td>-0.407193</td>\n",
       "      <td>0.095921</td>\n",
       "      <td>0.592941</td>\n",
       "      <td>-0.270533</td>\n",
       "      <td>0.817739</td>\n",
       "      <td>0.753074</td>\n",
       "      <td>...</td>\n",
       "      <td>-0.009431</td>\n",
       "      <td>0.798278</td>\n",
       "      <td>-0.137458</td>\n",
       "      <td>0.141267</td>\n",
       "      <td>-0.206010</td>\n",
       "      <td>0.502292</td>\n",
       "      <td>0.219422</td>\n",
       "      <td>0.215153</td>\n",
       "      <td>0</td>\n",
       "      <td>-0.076805</td>\n",
       "    </tr>\n",
       "    <tr>\n",
       "      <th>...</th>\n",
       "      <td>...</td>\n",
       "      <td>...</td>\n",
       "      <td>...</td>\n",
       "      <td>...</td>\n",
       "      <td>...</td>\n",
       "      <td>...</td>\n",
       "      <td>...</td>\n",
       "      <td>...</td>\n",
       "      <td>...</td>\n",
       "      <td>...</td>\n",
       "      <td>...</td>\n",
       "      <td>...</td>\n",
       "      <td>...</td>\n",
       "      <td>...</td>\n",
       "      <td>...</td>\n",
       "      <td>...</td>\n",
       "      <td>...</td>\n",
       "      <td>...</td>\n",
       "      <td>...</td>\n",
       "      <td>...</td>\n",
       "      <td>...</td>\n",
       "    </tr>\n",
       "    <tr>\n",
       "      <th>96541</th>\n",
       "      <td>-11.881118</td>\n",
       "      <td>10.071785</td>\n",
       "      <td>-9.834783</td>\n",
       "      <td>-2.066656</td>\n",
       "      <td>-5.364473</td>\n",
       "      <td>-2.606837</td>\n",
       "      <td>-4.918215</td>\n",
       "      <td>7.305334</td>\n",
       "      <td>1.914428</td>\n",
       "      <td>4.356170</td>\n",
       "      <td>...</td>\n",
       "      <td>0.213454</td>\n",
       "      <td>0.111864</td>\n",
       "      <td>1.014480</td>\n",
       "      <td>-0.509348</td>\n",
       "      <td>1.436807</td>\n",
       "      <td>0.250034</td>\n",
       "      <td>0.943651</td>\n",
       "      <td>0.823731</td>\n",
       "      <td>0</td>\n",
       "      <td>-0.338357</td>\n",
       "    </tr>\n",
       "    <tr>\n",
       "      <th>96542</th>\n",
       "      <td>-0.732789</td>\n",
       "      <td>-0.055080</td>\n",
       "      <td>2.035030</td>\n",
       "      <td>-0.738589</td>\n",
       "      <td>0.868229</td>\n",
       "      <td>1.058415</td>\n",
       "      <td>0.024330</td>\n",
       "      <td>0.294869</td>\n",
       "      <td>0.584800</td>\n",
       "      <td>-0.975926</td>\n",
       "      <td>...</td>\n",
       "      <td>0.214205</td>\n",
       "      <td>0.924384</td>\n",
       "      <td>0.012463</td>\n",
       "      <td>-1.016226</td>\n",
       "      <td>-0.606624</td>\n",
       "      <td>-0.395255</td>\n",
       "      <td>0.068472</td>\n",
       "      <td>-0.053527</td>\n",
       "      <td>0</td>\n",
       "      <td>-0.244190</td>\n",
       "    </tr>\n",
       "    <tr>\n",
       "      <th>96543</th>\n",
       "      <td>1.919565</td>\n",
       "      <td>-0.301254</td>\n",
       "      <td>-3.249640</td>\n",
       "      <td>-0.557828</td>\n",
       "      <td>2.630515</td>\n",
       "      <td>3.031260</td>\n",
       "      <td>-0.296827</td>\n",
       "      <td>0.708417</td>\n",
       "      <td>0.432454</td>\n",
       "      <td>-0.484782</td>\n",
       "      <td>...</td>\n",
       "      <td>0.232045</td>\n",
       "      <td>0.578229</td>\n",
       "      <td>-0.037501</td>\n",
       "      <td>0.640134</td>\n",
       "      <td>0.265745</td>\n",
       "      <td>-0.087371</td>\n",
       "      <td>0.004455</td>\n",
       "      <td>-0.026561</td>\n",
       "      <td>0</td>\n",
       "      <td>-0.075262</td>\n",
       "    </tr>\n",
       "    <tr>\n",
       "      <th>96544</th>\n",
       "      <td>-0.240440</td>\n",
       "      <td>0.530483</td>\n",
       "      <td>0.702510</td>\n",
       "      <td>0.689799</td>\n",
       "      <td>-0.377961</td>\n",
       "      <td>0.623708</td>\n",
       "      <td>-0.686180</td>\n",
       "      <td>0.679145</td>\n",
       "      <td>0.392087</td>\n",
       "      <td>-0.399126</td>\n",
       "      <td>...</td>\n",
       "      <td>0.265245</td>\n",
       "      <td>0.800049</td>\n",
       "      <td>-0.163298</td>\n",
       "      <td>0.123205</td>\n",
       "      <td>-0.569159</td>\n",
       "      <td>0.546668</td>\n",
       "      <td>0.108821</td>\n",
       "      <td>0.104533</td>\n",
       "      <td>0</td>\n",
       "      <td>-0.302172</td>\n",
       "    </tr>\n",
       "    <tr>\n",
       "      <th>96545</th>\n",
       "      <td>-0.533413</td>\n",
       "      <td>-0.189733</td>\n",
       "      <td>0.703337</td>\n",
       "      <td>-0.506271</td>\n",
       "      <td>-0.012546</td>\n",
       "      <td>-0.649617</td>\n",
       "      <td>1.577006</td>\n",
       "      <td>-0.414650</td>\n",
       "      <td>0.486180</td>\n",
       "      <td>-0.915427</td>\n",
       "      <td>...</td>\n",
       "      <td>0.261057</td>\n",
       "      <td>0.643078</td>\n",
       "      <td>0.376777</td>\n",
       "      <td>0.008797</td>\n",
       "      <td>-0.473649</td>\n",
       "      <td>-0.818267</td>\n",
       "      <td>-0.002415</td>\n",
       "      <td>0.013649</td>\n",
       "      <td>0</td>\n",
       "      <td>0.509342</td>\n",
       "    </tr>\n",
       "  </tbody>\n",
       "</table>\n",
       "<p>284807 rows × 30 columns</p>\n",
       "</div>"
      ],
      "text/plain": [
       "              V1         V2        V3        V4        V5        V6        V7  \\\n",
       "0      -1.359807  -0.072781  2.536347  1.378155 -0.338321  0.462388  0.239599   \n",
       "1       1.191857   0.266151  0.166480  0.448154  0.060018 -0.082361 -0.078803   \n",
       "2      -1.358354  -1.340163  1.773209  0.379780 -0.503198  1.800499  0.791461   \n",
       "3      -0.966272  -0.185226  1.792993 -0.863291 -0.010309  1.247203  0.237609   \n",
       "4      -1.158233   0.877737  1.548718  0.403034 -0.407193  0.095921  0.592941   \n",
       "...          ...        ...       ...       ...       ...       ...       ...   \n",
       "96541 -11.881118  10.071785 -9.834783 -2.066656 -5.364473 -2.606837 -4.918215   \n",
       "96542  -0.732789  -0.055080  2.035030 -0.738589  0.868229  1.058415  0.024330   \n",
       "96543   1.919565  -0.301254 -3.249640 -0.557828  2.630515  3.031260 -0.296827   \n",
       "96544  -0.240440   0.530483  0.702510  0.689799 -0.377961  0.623708 -0.686180   \n",
       "96545  -0.533413  -0.189733  0.703337 -0.506271 -0.012546 -0.649617  1.577006   \n",
       "\n",
       "             V8        V9       V10  ...       V21       V22       V23  \\\n",
       "0      0.098698  0.363787  0.090794  ... -0.018307  0.277838 -0.110474   \n",
       "1      0.085102 -0.255425 -0.166974  ... -0.225775 -0.638672  0.101288   \n",
       "2      0.247676 -1.514654  0.207643  ...  0.247998  0.771679  0.909412   \n",
       "3      0.377436 -1.387024 -0.054952  ... -0.108300  0.005274 -0.190321   \n",
       "4     -0.270533  0.817739  0.753074  ... -0.009431  0.798278 -0.137458   \n",
       "...         ...       ...       ...  ...       ...       ...       ...   \n",
       "96541  7.305334  1.914428  4.356170  ...  0.213454  0.111864  1.014480   \n",
       "96542  0.294869  0.584800 -0.975926  ...  0.214205  0.924384  0.012463   \n",
       "96543  0.708417  0.432454 -0.484782  ...  0.232045  0.578229 -0.037501   \n",
       "96544  0.679145  0.392087 -0.399126  ...  0.265245  0.800049 -0.163298   \n",
       "96545 -0.414650  0.486180 -0.915427  ...  0.261057  0.643078  0.376777   \n",
       "\n",
       "            V24       V25       V26       V27       V28  Class       Amt  \n",
       "0      0.066928  0.128539 -0.189115  0.133558 -0.021053      0  0.244887  \n",
       "1     -0.339846  0.167170  0.125895 -0.008983  0.014724      0 -0.348685  \n",
       "2     -0.689281 -0.327642 -0.139097 -0.055353 -0.059752      0  1.170169  \n",
       "3     -1.175575  0.647376 -0.221929  0.062723  0.061458      0  0.139366  \n",
       "4      0.141267 -0.206010  0.502292  0.219422  0.215153      0 -0.076805  \n",
       "...         ...       ...       ...       ...       ...    ...       ...  \n",
       "96541 -0.509348  1.436807  0.250034  0.943651  0.823731      0 -0.338357  \n",
       "96542 -1.016226 -0.606624 -0.395255  0.068472 -0.053527      0 -0.244190  \n",
       "96543  0.640134  0.265745 -0.087371  0.004455 -0.026561      0 -0.075262  \n",
       "96544  0.123205 -0.569159  0.546668  0.108821  0.104533      0 -0.302172  \n",
       "96545  0.008797 -0.473649 -0.818267 -0.002415  0.013649      0  0.509342  \n",
       "\n",
       "[284807 rows x 30 columns]"
      ]
     },
     "execution_count": 101,
     "metadata": {},
     "output_type": "execute_result"
    }
   ],
   "source": [
    "# double check the whole file is as we expect\n",
    "\n",
    "trans"
   ]
  },
  {
   "cell_type": "markdown",
   "id": "31ba8a9d",
   "metadata": {},
   "source": [
    "From the SKLEARN Documentation regarding the Precision Recall Curve:  \"Precision-Recall is a useful measure of success of prediction when the classes are very imbalanced. In information retrieval, precision is a measure of result relevancy, while recall is a measure of how many truly relevant results are returned.\n",
    "\n",
    "The precision-recall curve shows the tradeoff between precision and recall for different threshold. A high area under the curve represents both high recall and high precision, where high precision relates to a low false positive rate, and high recall relates to a low false negative rate. High scores for both show that the classifier is returning accurate results (high precision), as well as returning a majority of all positive results (high recall).\""
   ]
  },
  {
   "cell_type": "markdown",
   "id": "75b646a0",
   "metadata": {},
   "source": []
  },
  {
   "cell_type": "markdown",
   "id": "bdcc1262",
   "metadata": {},
   "source": [
    "In this section, I spent some time on OVERFIT models.  Since that code took a long time to run, I deleted out those cells.  Below I will do it properly."
   ]
  },
  {
   "cell_type": "code",
   "execution_count": null,
   "id": "4d078d43",
   "metadata": {},
   "outputs": [],
   "source": []
  },
  {
   "cell_type": "markdown",
   "id": "1b79df18",
   "metadata": {},
   "source": [
    "Now run SMOTE-Tomek on a more traditional Train-Test split using the whole data set, then build a Random Forest model using tuned params.  Maybe with a few more train instances, after the SMOTE-Tomek over/under sampling, it might perform even better still. "
   ]
  },
  {
   "cell_type": "code",
   "execution_count": 64,
   "id": "8255bd7e",
   "metadata": {},
   "outputs": [
    {
     "data": {
      "text/html": [
       "<div>\n",
       "<style scoped>\n",
       "    .dataframe tbody tr th:only-of-type {\n",
       "        vertical-align: middle;\n",
       "    }\n",
       "\n",
       "    .dataframe tbody tr th {\n",
       "        vertical-align: top;\n",
       "    }\n",
       "\n",
       "    .dataframe thead th {\n",
       "        text-align: right;\n",
       "    }\n",
       "</style>\n",
       "<table border=\"1\" class=\"dataframe\">\n",
       "  <thead>\n",
       "    <tr style=\"text-align: right;\">\n",
       "      <th></th>\n",
       "      <th>V1</th>\n",
       "      <th>V2</th>\n",
       "      <th>V3</th>\n",
       "      <th>V4</th>\n",
       "      <th>V5</th>\n",
       "      <th>V6</th>\n",
       "      <th>V7</th>\n",
       "      <th>V8</th>\n",
       "      <th>V9</th>\n",
       "      <th>V10</th>\n",
       "      <th>...</th>\n",
       "      <th>V21</th>\n",
       "      <th>V22</th>\n",
       "      <th>V23</th>\n",
       "      <th>V24</th>\n",
       "      <th>V25</th>\n",
       "      <th>V26</th>\n",
       "      <th>V27</th>\n",
       "      <th>V28</th>\n",
       "      <th>Class</th>\n",
       "      <th>Amt</th>\n",
       "    </tr>\n",
       "  </thead>\n",
       "  <tbody>\n",
       "    <tr>\n",
       "      <th>0</th>\n",
       "      <td>-1.359807</td>\n",
       "      <td>-0.072781</td>\n",
       "      <td>2.536347</td>\n",
       "      <td>1.378155</td>\n",
       "      <td>-0.338321</td>\n",
       "      <td>0.462388</td>\n",
       "      <td>0.239599</td>\n",
       "      <td>0.098698</td>\n",
       "      <td>0.363787</td>\n",
       "      <td>0.090794</td>\n",
       "      <td>...</td>\n",
       "      <td>-0.018307</td>\n",
       "      <td>0.277838</td>\n",
       "      <td>-0.110474</td>\n",
       "      <td>0.066928</td>\n",
       "      <td>0.128539</td>\n",
       "      <td>-0.189115</td>\n",
       "      <td>0.133558</td>\n",
       "      <td>-0.021053</td>\n",
       "      <td>0</td>\n",
       "      <td>0.244887</td>\n",
       "    </tr>\n",
       "    <tr>\n",
       "      <th>1</th>\n",
       "      <td>1.191857</td>\n",
       "      <td>0.266151</td>\n",
       "      <td>0.166480</td>\n",
       "      <td>0.448154</td>\n",
       "      <td>0.060018</td>\n",
       "      <td>-0.082361</td>\n",
       "      <td>-0.078803</td>\n",
       "      <td>0.085102</td>\n",
       "      <td>-0.255425</td>\n",
       "      <td>-0.166974</td>\n",
       "      <td>...</td>\n",
       "      <td>-0.225775</td>\n",
       "      <td>-0.638672</td>\n",
       "      <td>0.101288</td>\n",
       "      <td>-0.339846</td>\n",
       "      <td>0.167170</td>\n",
       "      <td>0.125895</td>\n",
       "      <td>-0.008983</td>\n",
       "      <td>0.014724</td>\n",
       "      <td>0</td>\n",
       "      <td>-0.348685</td>\n",
       "    </tr>\n",
       "    <tr>\n",
       "      <th>2</th>\n",
       "      <td>-1.358354</td>\n",
       "      <td>-1.340163</td>\n",
       "      <td>1.773209</td>\n",
       "      <td>0.379780</td>\n",
       "      <td>-0.503198</td>\n",
       "      <td>1.800499</td>\n",
       "      <td>0.791461</td>\n",
       "      <td>0.247676</td>\n",
       "      <td>-1.514654</td>\n",
       "      <td>0.207643</td>\n",
       "      <td>...</td>\n",
       "      <td>0.247998</td>\n",
       "      <td>0.771679</td>\n",
       "      <td>0.909412</td>\n",
       "      <td>-0.689281</td>\n",
       "      <td>-0.327642</td>\n",
       "      <td>-0.139097</td>\n",
       "      <td>-0.055353</td>\n",
       "      <td>-0.059752</td>\n",
       "      <td>0</td>\n",
       "      <td>1.170169</td>\n",
       "    </tr>\n",
       "    <tr>\n",
       "      <th>3</th>\n",
       "      <td>-0.966272</td>\n",
       "      <td>-0.185226</td>\n",
       "      <td>1.792993</td>\n",
       "      <td>-0.863291</td>\n",
       "      <td>-0.010309</td>\n",
       "      <td>1.247203</td>\n",
       "      <td>0.237609</td>\n",
       "      <td>0.377436</td>\n",
       "      <td>-1.387024</td>\n",
       "      <td>-0.054952</td>\n",
       "      <td>...</td>\n",
       "      <td>-0.108300</td>\n",
       "      <td>0.005274</td>\n",
       "      <td>-0.190321</td>\n",
       "      <td>-1.175575</td>\n",
       "      <td>0.647376</td>\n",
       "      <td>-0.221929</td>\n",
       "      <td>0.062723</td>\n",
       "      <td>0.061458</td>\n",
       "      <td>0</td>\n",
       "      <td>0.139366</td>\n",
       "    </tr>\n",
       "    <tr>\n",
       "      <th>4</th>\n",
       "      <td>-1.158233</td>\n",
       "      <td>0.877737</td>\n",
       "      <td>1.548718</td>\n",
       "      <td>0.403034</td>\n",
       "      <td>-0.407193</td>\n",
       "      <td>0.095921</td>\n",
       "      <td>0.592941</td>\n",
       "      <td>-0.270533</td>\n",
       "      <td>0.817739</td>\n",
       "      <td>0.753074</td>\n",
       "      <td>...</td>\n",
       "      <td>-0.009431</td>\n",
       "      <td>0.798278</td>\n",
       "      <td>-0.137458</td>\n",
       "      <td>0.141267</td>\n",
       "      <td>-0.206010</td>\n",
       "      <td>0.502292</td>\n",
       "      <td>0.219422</td>\n",
       "      <td>0.215153</td>\n",
       "      <td>0</td>\n",
       "      <td>-0.076805</td>\n",
       "    </tr>\n",
       "    <tr>\n",
       "      <th>...</th>\n",
       "      <td>...</td>\n",
       "      <td>...</td>\n",
       "      <td>...</td>\n",
       "      <td>...</td>\n",
       "      <td>...</td>\n",
       "      <td>...</td>\n",
       "      <td>...</td>\n",
       "      <td>...</td>\n",
       "      <td>...</td>\n",
       "      <td>...</td>\n",
       "      <td>...</td>\n",
       "      <td>...</td>\n",
       "      <td>...</td>\n",
       "      <td>...</td>\n",
       "      <td>...</td>\n",
       "      <td>...</td>\n",
       "      <td>...</td>\n",
       "      <td>...</td>\n",
       "      <td>...</td>\n",
       "      <td>...</td>\n",
       "      <td>...</td>\n",
       "    </tr>\n",
       "    <tr>\n",
       "      <th>96541</th>\n",
       "      <td>-11.881118</td>\n",
       "      <td>10.071785</td>\n",
       "      <td>-9.834783</td>\n",
       "      <td>-2.066656</td>\n",
       "      <td>-5.364473</td>\n",
       "      <td>-2.606837</td>\n",
       "      <td>-4.918215</td>\n",
       "      <td>7.305334</td>\n",
       "      <td>1.914428</td>\n",
       "      <td>4.356170</td>\n",
       "      <td>...</td>\n",
       "      <td>0.213454</td>\n",
       "      <td>0.111864</td>\n",
       "      <td>1.014480</td>\n",
       "      <td>-0.509348</td>\n",
       "      <td>1.436807</td>\n",
       "      <td>0.250034</td>\n",
       "      <td>0.943651</td>\n",
       "      <td>0.823731</td>\n",
       "      <td>0</td>\n",
       "      <td>-0.338357</td>\n",
       "    </tr>\n",
       "    <tr>\n",
       "      <th>96542</th>\n",
       "      <td>-0.732789</td>\n",
       "      <td>-0.055080</td>\n",
       "      <td>2.035030</td>\n",
       "      <td>-0.738589</td>\n",
       "      <td>0.868229</td>\n",
       "      <td>1.058415</td>\n",
       "      <td>0.024330</td>\n",
       "      <td>0.294869</td>\n",
       "      <td>0.584800</td>\n",
       "      <td>-0.975926</td>\n",
       "      <td>...</td>\n",
       "      <td>0.214205</td>\n",
       "      <td>0.924384</td>\n",
       "      <td>0.012463</td>\n",
       "      <td>-1.016226</td>\n",
       "      <td>-0.606624</td>\n",
       "      <td>-0.395255</td>\n",
       "      <td>0.068472</td>\n",
       "      <td>-0.053527</td>\n",
       "      <td>0</td>\n",
       "      <td>-0.244190</td>\n",
       "    </tr>\n",
       "    <tr>\n",
       "      <th>96543</th>\n",
       "      <td>1.919565</td>\n",
       "      <td>-0.301254</td>\n",
       "      <td>-3.249640</td>\n",
       "      <td>-0.557828</td>\n",
       "      <td>2.630515</td>\n",
       "      <td>3.031260</td>\n",
       "      <td>-0.296827</td>\n",
       "      <td>0.708417</td>\n",
       "      <td>0.432454</td>\n",
       "      <td>-0.484782</td>\n",
       "      <td>...</td>\n",
       "      <td>0.232045</td>\n",
       "      <td>0.578229</td>\n",
       "      <td>-0.037501</td>\n",
       "      <td>0.640134</td>\n",
       "      <td>0.265745</td>\n",
       "      <td>-0.087371</td>\n",
       "      <td>0.004455</td>\n",
       "      <td>-0.026561</td>\n",
       "      <td>0</td>\n",
       "      <td>-0.075262</td>\n",
       "    </tr>\n",
       "    <tr>\n",
       "      <th>96544</th>\n",
       "      <td>-0.240440</td>\n",
       "      <td>0.530483</td>\n",
       "      <td>0.702510</td>\n",
       "      <td>0.689799</td>\n",
       "      <td>-0.377961</td>\n",
       "      <td>0.623708</td>\n",
       "      <td>-0.686180</td>\n",
       "      <td>0.679145</td>\n",
       "      <td>0.392087</td>\n",
       "      <td>-0.399126</td>\n",
       "      <td>...</td>\n",
       "      <td>0.265245</td>\n",
       "      <td>0.800049</td>\n",
       "      <td>-0.163298</td>\n",
       "      <td>0.123205</td>\n",
       "      <td>-0.569159</td>\n",
       "      <td>0.546668</td>\n",
       "      <td>0.108821</td>\n",
       "      <td>0.104533</td>\n",
       "      <td>0</td>\n",
       "      <td>-0.302172</td>\n",
       "    </tr>\n",
       "    <tr>\n",
       "      <th>96545</th>\n",
       "      <td>-0.533413</td>\n",
       "      <td>-0.189733</td>\n",
       "      <td>0.703337</td>\n",
       "      <td>-0.506271</td>\n",
       "      <td>-0.012546</td>\n",
       "      <td>-0.649617</td>\n",
       "      <td>1.577006</td>\n",
       "      <td>-0.414650</td>\n",
       "      <td>0.486180</td>\n",
       "      <td>-0.915427</td>\n",
       "      <td>...</td>\n",
       "      <td>0.261057</td>\n",
       "      <td>0.643078</td>\n",
       "      <td>0.376777</td>\n",
       "      <td>0.008797</td>\n",
       "      <td>-0.473649</td>\n",
       "      <td>-0.818267</td>\n",
       "      <td>-0.002415</td>\n",
       "      <td>0.013649</td>\n",
       "      <td>0</td>\n",
       "      <td>0.509342</td>\n",
       "    </tr>\n",
       "  </tbody>\n",
       "</table>\n",
       "<p>284807 rows × 30 columns</p>\n",
       "</div>"
      ],
      "text/plain": [
       "              V1         V2        V3        V4        V5        V6        V7  \\\n",
       "0      -1.359807  -0.072781  2.536347  1.378155 -0.338321  0.462388  0.239599   \n",
       "1       1.191857   0.266151  0.166480  0.448154  0.060018 -0.082361 -0.078803   \n",
       "2      -1.358354  -1.340163  1.773209  0.379780 -0.503198  1.800499  0.791461   \n",
       "3      -0.966272  -0.185226  1.792993 -0.863291 -0.010309  1.247203  0.237609   \n",
       "4      -1.158233   0.877737  1.548718  0.403034 -0.407193  0.095921  0.592941   \n",
       "...          ...        ...       ...       ...       ...       ...       ...   \n",
       "96541 -11.881118  10.071785 -9.834783 -2.066656 -5.364473 -2.606837 -4.918215   \n",
       "96542  -0.732789  -0.055080  2.035030 -0.738589  0.868229  1.058415  0.024330   \n",
       "96543   1.919565  -0.301254 -3.249640 -0.557828  2.630515  3.031260 -0.296827   \n",
       "96544  -0.240440   0.530483  0.702510  0.689799 -0.377961  0.623708 -0.686180   \n",
       "96545  -0.533413  -0.189733  0.703337 -0.506271 -0.012546 -0.649617  1.577006   \n",
       "\n",
       "             V8        V9       V10  ...       V21       V22       V23  \\\n",
       "0      0.098698  0.363787  0.090794  ... -0.018307  0.277838 -0.110474   \n",
       "1      0.085102 -0.255425 -0.166974  ... -0.225775 -0.638672  0.101288   \n",
       "2      0.247676 -1.514654  0.207643  ...  0.247998  0.771679  0.909412   \n",
       "3      0.377436 -1.387024 -0.054952  ... -0.108300  0.005274 -0.190321   \n",
       "4     -0.270533  0.817739  0.753074  ... -0.009431  0.798278 -0.137458   \n",
       "...         ...       ...       ...  ...       ...       ...       ...   \n",
       "96541  7.305334  1.914428  4.356170  ...  0.213454  0.111864  1.014480   \n",
       "96542  0.294869  0.584800 -0.975926  ...  0.214205  0.924384  0.012463   \n",
       "96543  0.708417  0.432454 -0.484782  ...  0.232045  0.578229 -0.037501   \n",
       "96544  0.679145  0.392087 -0.399126  ...  0.265245  0.800049 -0.163298   \n",
       "96545 -0.414650  0.486180 -0.915427  ...  0.261057  0.643078  0.376777   \n",
       "\n",
       "            V24       V25       V26       V27       V28  Class       Amt  \n",
       "0      0.066928  0.128539 -0.189115  0.133558 -0.021053      0  0.244887  \n",
       "1     -0.339846  0.167170  0.125895 -0.008983  0.014724      0 -0.348685  \n",
       "2     -0.689281 -0.327642 -0.139097 -0.055353 -0.059752      0  1.170169  \n",
       "3     -1.175575  0.647376 -0.221929  0.062723  0.061458      0  0.139366  \n",
       "4      0.141267 -0.206010  0.502292  0.219422  0.215153      0 -0.076805  \n",
       "...         ...       ...       ...       ...       ...    ...       ...  \n",
       "96541 -0.509348  1.436807  0.250034  0.943651  0.823731      0 -0.338357  \n",
       "96542 -1.016226 -0.606624 -0.395255  0.068472 -0.053527      0 -0.244190  \n",
       "96543  0.640134  0.265745 -0.087371  0.004455 -0.026561      0 -0.075262  \n",
       "96544  0.123205 -0.569159  0.546668  0.108821  0.104533      0 -0.302172  \n",
       "96545  0.008797 -0.473649 -0.818267 -0.002415  0.013649      0  0.509342  \n",
       "\n",
       "[284807 rows x 30 columns]"
      ]
     },
     "execution_count": 64,
     "metadata": {},
     "output_type": "execute_result"
    }
   ],
   "source": [
    "# Triple check the original file\n",
    "\n",
    "trans"
   ]
  },
  {
   "cell_type": "code",
   "execution_count": 65,
   "id": "280b06d9",
   "metadata": {},
   "outputs": [],
   "source": [
    "# Split into features and target\n",
    "\n",
    "trans_targ = trans['Class']\n",
    "trans_feat = trans.drop(['Class'], axis=1)"
   ]
  },
  {
   "cell_type": "code",
   "execution_count": 66,
   "id": "8dd22759",
   "metadata": {},
   "outputs": [],
   "source": [
    "# Split into 70%/30% Train and Test sets.\n",
    "\n",
    "X_train, X_test, y_train, y_test = train_test_split(trans_feat, trans_targ, test_size=0.3, random_state=42)"
   ]
  },
  {
   "cell_type": "code",
   "execution_count": 69,
   "id": "525e4cbd",
   "metadata": {},
   "outputs": [],
   "source": [
    "# Run the SMOTE-Tomek resampler on JUST the split out training sets\n",
    "\n",
    "smt = SMOTETomek(sampling_strategy = 'minority', random_state=1234)\n",
    "\n",
    "X_ST2, y_ST2 = smt.fit_resample(X_train, y_train)"
   ]
  },
  {
   "cell_type": "code",
   "execution_count": 70,
   "id": "6e0c2c31",
   "metadata": {},
   "outputs": [
    {
     "name": "stdout",
     "output_type": "stream",
     "text": [
      "Accuracy: 0.9995318516437859\n",
      "ROCAUC score: 0.9300239739653114\n",
      "F1 score: 0.854014598540146\n",
      "Recall score: 0.8602941176470589\n",
      "Confusion Matrix:  \n",
      " [[85286    21]\n",
      " [   19   117]]\n",
      "AUPRC: 0.7296021658656212\n",
      "Predicted # Fraud cases:  138\n",
      "Actual # Fraud cases:  136\n"
     ]
    }
   ],
   "source": [
    "# NOW create the model using those files, then check against the X_test and y_test\n",
    "\n",
    "# Build a Random Forest Model with the tuned Params on the SMOTE-Tomek sampled files\n",
    "\n",
    "clf = RandomForestClassifier(criterion='entropy', n_estimators = 256)\n",
    "\n",
    "clf = clf.fit(X_ST2, y_ST2)\n",
    "\n",
    "preds = clf.predict(X_test)\n",
    "\n",
    "print_results(y_test, preds)"
   ]
  },
  {
   "cell_type": "code",
   "execution_count": 71,
   "id": "23df09ef",
   "metadata": {},
   "outputs": [
    {
     "data": {
      "image/png": "[encoded data removed]",
      "text/plain": [
       "<Figure size 432x288 with 1 Axes>"
      ]
     },
     "metadata": {
      "needs_background": "light"
     },
     "output_type": "display_data"
    }
   ],
   "source": [
    "display = PrecisionRecallDisplay.from_estimator(clf, X_test, y_test, name=\"RF - SMOTE-Tomek\")\n",
    "_ = display.ax_.set_title(\"Precision-Recall curve\")"
   ]
  },
  {
   "cell_type": "code",
   "execution_count": 72,
   "id": "98216155",
   "metadata": {},
   "outputs": [
    {
     "data": {
      "image/png": "[encoded data removed]",
      "text/plain": [
       "<Figure size 432x288 with 1 Axes>"
      ]
     },
     "metadata": {
      "needs_background": "light"
     },
     "output_type": "display_data"
    }
   ],
   "source": [
    "display = RocCurveDisplay.from_estimator(clf, X_test, y_test, name='RF - SMOTE-Tomek')\n",
    "_ = display.ax_.set_title(\"ROC Curve\")"
   ]
  },
  {
   "cell_type": "code",
   "execution_count": null,
   "id": "bb12f89a",
   "metadata": {},
   "outputs": [],
   "source": []
  },
  {
   "cell_type": "markdown",
   "id": "faa9a438",
   "metadata": {},
   "source": [
    "The below cells were initial attempts to do more with Outlier Detection.  I did not end up with enough time to pursue them further.\n",
    "\n"
   ]
  },
  {
   "cell_type": "code",
   "execution_count": null,
   "id": "2c4154a6",
   "metadata": {},
   "outputs": [],
   "source": [
    "# Outlier Detection?"
   ]
  },
  {
   "cell_type": "code",
   "execution_count": null,
   "id": "34ea1ad9",
   "metadata": {},
   "outputs": [],
   "source": []
  },
  {
   "cell_type": "code",
   "execution_count": 125,
   "id": "472f4155",
   "metadata": {},
   "outputs": [],
   "source": [
    "from sklearn.decomposition import KernelPCA\n",
    "from sklearn.svm import OneClassSVM"
   ]
  },
  {
   "cell_type": "code",
   "execution_count": null,
   "id": "af979b40",
   "metadata": {},
   "outputs": [],
   "source": [
    "# # KPCA \n",
    "\n",
    "# # Fitting KPCA with only training data:\n",
    "\n",
    "# kpca = KernelPCA(n_components = 20, n_jobs = -1, kernel = 'rbf')\n",
    "# kpcamodel = kpca.fit(X_train)\n",
    "# X_train_kpca = kpcamodel.transform(X_train)\n",
    "# X_test_kpca = kpcamodel.transform(X_test)\n",
    "\n",
    "# # Training model with \"majority\" class, leaving Class = 1 out:\n",
    "# train_final = pd.concat([pd.DataFrame(X_train_kpca), y_train], axis =1)\n",
    "# train_0 = train_final[train_final['Convert']==0]\n",
    "# train_1 = train_final[train_final['Convert']==1]\n",
    "\n",
    "# # Prediction: \n",
    "\n",
    "# model = OneClassSVM() #again for controlled comparison, no hyperparameters will be tuned\n",
    "# result = model.fit(train_0)\n",
    "# y_pred = result.predict(X_test_kpca)\n",
    "# confusion_matrix(y_train, y_pred)"
   ]
  },
  {
   "cell_type": "code",
   "execution_count": null,
   "id": "40efdb67",
   "metadata": {},
   "outputs": [],
   "source": [
    "# The above code blew up Notebook."
   ]
  },
  {
   "cell_type": "code",
   "execution_count": null,
   "id": "35a6d81b",
   "metadata": {},
   "outputs": [],
   "source": []
  },
  {
   "cell_type": "code",
   "execution_count": 74,
   "id": "8e81235c",
   "metadata": {},
   "outputs": [],
   "source": [
    "# Isolation Forest\n",
    "\n",
    "from sklearn.ensemble import IsolationForest"
   ]
  },
  {
   "cell_type": "code",
   "execution_count": 130,
   "id": "db6bab61",
   "metadata": {},
   "outputs": [
    {
     "name": "stderr",
     "output_type": "stream",
     "text": [
      "/Users/pauloleary/opt/miniconda3/envs/CAP_env/lib/python3.9/site-packages/sklearn/base.py:441: UserWarning: X does not have valid feature names, but IsolationForest was fitted with feature names\n",
      "  warnings.warn(\n"
     ]
    }
   ],
   "source": [
    "# use the train and test files from above\n",
    "\n",
    "clf = IsolationForest(n_estimators = 500, max_features = 5)\n",
    "\n",
    "clf = clf.fit(X_train, y_train)\n",
    "\n",
    "preds = clf.predict(X_test)\n",
    "\n",
    "# print_results(y_test, preds)"
   ]
  },
  {
   "cell_type": "code",
   "execution_count": 131,
   "id": "39263084",
   "metadata": {},
   "outputs": [
    {
     "data": {
      "text/plain": [
       "array([-1,  1,  1, ...,  1,  1,  1])"
      ]
     },
     "execution_count": 131,
     "metadata": {},
     "output_type": "execute_result"
    }
   ],
   "source": [
    "preds"
   ]
  },
  {
   "cell_type": "markdown",
   "id": "5bfab863",
   "metadata": {},
   "source": [
    "OK.  -1 would be the '1' in the actual file, and 1 would be 0."
   ]
  },
  {
   "cell_type": "code",
   "execution_count": 132,
   "id": "f2048c39",
   "metadata": {},
   "outputs": [
    {
     "data": {
      "text/plain": [
       "numpy.ndarray"
      ]
     },
     "execution_count": 132,
     "metadata": {},
     "output_type": "execute_result"
    }
   ],
   "source": [
    "type(preds)"
   ]
  },
  {
   "cell_type": "code",
   "execution_count": 133,
   "id": "1d9f86a7",
   "metadata": {},
   "outputs": [
    {
     "name": "stdout",
     "output_type": "stream",
     "text": [
      "[(-1, 3430), (1, 82013)]\n"
     ]
    }
   ],
   "source": [
    "print(sorted(Counter(preds).items()))"
   ]
  },
  {
   "cell_type": "code",
   "execution_count": 134,
   "id": "8d7712d8",
   "metadata": {},
   "outputs": [],
   "source": [
    "# Change the 1s to 0, and the -1s to 1  ???\n",
    "preds2 = np.where(preds==1, 0, preds)\n",
    "# np.where(preds==-1, 1, preds)"
   ]
  },
  {
   "cell_type": "code",
   "execution_count": 135,
   "id": "9d5fc57b",
   "metadata": {},
   "outputs": [
    {
     "data": {
      "text/plain": [
       "array([-1,  0,  0, ...,  0,  0,  0])"
      ]
     },
     "execution_count": 135,
     "metadata": {},
     "output_type": "execute_result"
    }
   ],
   "source": [
    "preds2"
   ]
  },
  {
   "cell_type": "code",
   "execution_count": 136,
   "id": "e7c9421a",
   "metadata": {},
   "outputs": [],
   "source": [
    "preds3 = np.where(preds2==-1, 1, preds2)"
   ]
  },
  {
   "cell_type": "code",
   "execution_count": 137,
   "id": "edfd60bd",
   "metadata": {},
   "outputs": [
    {
     "data": {
      "text/plain": [
       "array([1, 0, 0, ..., 0, 0, 0])"
      ]
     },
     "execution_count": 137,
     "metadata": {},
     "output_type": "execute_result"
    }
   ],
   "source": [
    "preds3"
   ]
  },
  {
   "cell_type": "code",
   "execution_count": 138,
   "id": "d61fc30e",
   "metadata": {},
   "outputs": [
    {
     "name": "stdout",
     "output_type": "stream",
     "text": [
      "Accuracy: 0.9609330196739346\n",
      "ROCAUC score: 0.8996819618278343\n",
      "F1 score: 0.0639371845204711\n",
      "Recall score: 0.8382352941176471\n",
      "Confusion Matrix:  \n",
      " [[81991  3316]\n",
      " [   22   114]]\n",
      "AUPRC: 0.028117196910615053\n",
      "Predicted # Fraud cases:  3430\n",
      "Actual # Fraud cases:  136\n"
     ]
    }
   ],
   "source": [
    "print_results(y_test, preds3)"
   ]
  },
  {
   "cell_type": "code",
   "execution_count": null,
   "id": "3161ac33",
   "metadata": {},
   "outputs": [],
   "source": []
  },
  {
   "cell_type": "code",
   "execution_count": 139,
   "id": "08d3fcd1",
   "metadata": {},
   "outputs": [
    {
     "data": {
      "text/html": [
       "<div>\n",
       "<style scoped>\n",
       "    .dataframe tbody tr th:only-of-type {\n",
       "        vertical-align: middle;\n",
       "    }\n",
       "\n",
       "    .dataframe tbody tr th {\n",
       "        vertical-align: top;\n",
       "    }\n",
       "\n",
       "    .dataframe thead th {\n",
       "        text-align: right;\n",
       "    }\n",
       "</style>\n",
       "<table border=\"1\" class=\"dataframe\">\n",
       "  <thead>\n",
       "    <tr style=\"text-align: right;\">\n",
       "      <th></th>\n",
       "      <th>V1</th>\n",
       "      <th>V2</th>\n",
       "      <th>V3</th>\n",
       "      <th>V4</th>\n",
       "      <th>V5</th>\n",
       "      <th>V6</th>\n",
       "      <th>V7</th>\n",
       "      <th>V8</th>\n",
       "      <th>V9</th>\n",
       "      <th>V10</th>\n",
       "      <th>...</th>\n",
       "      <th>V21</th>\n",
       "      <th>V22</th>\n",
       "      <th>V23</th>\n",
       "      <th>V24</th>\n",
       "      <th>V25</th>\n",
       "      <th>V26</th>\n",
       "      <th>V27</th>\n",
       "      <th>V28</th>\n",
       "      <th>Class</th>\n",
       "      <th>Amt</th>\n",
       "    </tr>\n",
       "  </thead>\n",
       "  <tbody>\n",
       "    <tr>\n",
       "      <th>0</th>\n",
       "      <td>-1.359807</td>\n",
       "      <td>-0.072781</td>\n",
       "      <td>2.536347</td>\n",
       "      <td>1.378155</td>\n",
       "      <td>-0.338321</td>\n",
       "      <td>0.462388</td>\n",
       "      <td>0.239599</td>\n",
       "      <td>0.098698</td>\n",
       "      <td>0.363787</td>\n",
       "      <td>0.090794</td>\n",
       "      <td>...</td>\n",
       "      <td>-0.018307</td>\n",
       "      <td>0.277838</td>\n",
       "      <td>-0.110474</td>\n",
       "      <td>0.066928</td>\n",
       "      <td>0.128539</td>\n",
       "      <td>-0.189115</td>\n",
       "      <td>0.133558</td>\n",
       "      <td>-0.021053</td>\n",
       "      <td>0</td>\n",
       "      <td>0.244887</td>\n",
       "    </tr>\n",
       "    <tr>\n",
       "      <th>1</th>\n",
       "      <td>1.191857</td>\n",
       "      <td>0.266151</td>\n",
       "      <td>0.166480</td>\n",
       "      <td>0.448154</td>\n",
       "      <td>0.060018</td>\n",
       "      <td>-0.082361</td>\n",
       "      <td>-0.078803</td>\n",
       "      <td>0.085102</td>\n",
       "      <td>-0.255425</td>\n",
       "      <td>-0.166974</td>\n",
       "      <td>...</td>\n",
       "      <td>-0.225775</td>\n",
       "      <td>-0.638672</td>\n",
       "      <td>0.101288</td>\n",
       "      <td>-0.339846</td>\n",
       "      <td>0.167170</td>\n",
       "      <td>0.125895</td>\n",
       "      <td>-0.008983</td>\n",
       "      <td>0.014724</td>\n",
       "      <td>0</td>\n",
       "      <td>-0.348685</td>\n",
       "    </tr>\n",
       "    <tr>\n",
       "      <th>2</th>\n",
       "      <td>-1.358354</td>\n",
       "      <td>-1.340163</td>\n",
       "      <td>1.773209</td>\n",
       "      <td>0.379780</td>\n",
       "      <td>-0.503198</td>\n",
       "      <td>1.800499</td>\n",
       "      <td>0.791461</td>\n",
       "      <td>0.247676</td>\n",
       "      <td>-1.514654</td>\n",
       "      <td>0.207643</td>\n",
       "      <td>...</td>\n",
       "      <td>0.247998</td>\n",
       "      <td>0.771679</td>\n",
       "      <td>0.909412</td>\n",
       "      <td>-0.689281</td>\n",
       "      <td>-0.327642</td>\n",
       "      <td>-0.139097</td>\n",
       "      <td>-0.055353</td>\n",
       "      <td>-0.059752</td>\n",
       "      <td>0</td>\n",
       "      <td>1.170169</td>\n",
       "    </tr>\n",
       "    <tr>\n",
       "      <th>3</th>\n",
       "      <td>-0.966272</td>\n",
       "      <td>-0.185226</td>\n",
       "      <td>1.792993</td>\n",
       "      <td>-0.863291</td>\n",
       "      <td>-0.010309</td>\n",
       "      <td>1.247203</td>\n",
       "      <td>0.237609</td>\n",
       "      <td>0.377436</td>\n",
       "      <td>-1.387024</td>\n",
       "      <td>-0.054952</td>\n",
       "      <td>...</td>\n",
       "      <td>-0.108300</td>\n",
       "      <td>0.005274</td>\n",
       "      <td>-0.190321</td>\n",
       "      <td>-1.175575</td>\n",
       "      <td>0.647376</td>\n",
       "      <td>-0.221929</td>\n",
       "      <td>0.062723</td>\n",
       "      <td>0.061458</td>\n",
       "      <td>0</td>\n",
       "      <td>0.139366</td>\n",
       "    </tr>\n",
       "    <tr>\n",
       "      <th>4</th>\n",
       "      <td>-1.158233</td>\n",
       "      <td>0.877737</td>\n",
       "      <td>1.548718</td>\n",
       "      <td>0.403034</td>\n",
       "      <td>-0.407193</td>\n",
       "      <td>0.095921</td>\n",
       "      <td>0.592941</td>\n",
       "      <td>-0.270533</td>\n",
       "      <td>0.817739</td>\n",
       "      <td>0.753074</td>\n",
       "      <td>...</td>\n",
       "      <td>-0.009431</td>\n",
       "      <td>0.798278</td>\n",
       "      <td>-0.137458</td>\n",
       "      <td>0.141267</td>\n",
       "      <td>-0.206010</td>\n",
       "      <td>0.502292</td>\n",
       "      <td>0.219422</td>\n",
       "      <td>0.215153</td>\n",
       "      <td>0</td>\n",
       "      <td>-0.076805</td>\n",
       "    </tr>\n",
       "    <tr>\n",
       "      <th>...</th>\n",
       "      <td>...</td>\n",
       "      <td>...</td>\n",
       "      <td>...</td>\n",
       "      <td>...</td>\n",
       "      <td>...</td>\n",
       "      <td>...</td>\n",
       "      <td>...</td>\n",
       "      <td>...</td>\n",
       "      <td>...</td>\n",
       "      <td>...</td>\n",
       "      <td>...</td>\n",
       "      <td>...</td>\n",
       "      <td>...</td>\n",
       "      <td>...</td>\n",
       "      <td>...</td>\n",
       "      <td>...</td>\n",
       "      <td>...</td>\n",
       "      <td>...</td>\n",
       "      <td>...</td>\n",
       "      <td>...</td>\n",
       "      <td>...</td>\n",
       "    </tr>\n",
       "    <tr>\n",
       "      <th>96541</th>\n",
       "      <td>-11.881118</td>\n",
       "      <td>10.071785</td>\n",
       "      <td>-9.834783</td>\n",
       "      <td>-2.066656</td>\n",
       "      <td>-5.364473</td>\n",
       "      <td>-2.606837</td>\n",
       "      <td>-4.918215</td>\n",
       "      <td>7.305334</td>\n",
       "      <td>1.914428</td>\n",
       "      <td>4.356170</td>\n",
       "      <td>...</td>\n",
       "      <td>0.213454</td>\n",
       "      <td>0.111864</td>\n",
       "      <td>1.014480</td>\n",
       "      <td>-0.509348</td>\n",
       "      <td>1.436807</td>\n",
       "      <td>0.250034</td>\n",
       "      <td>0.943651</td>\n",
       "      <td>0.823731</td>\n",
       "      <td>0</td>\n",
       "      <td>-0.338357</td>\n",
       "    </tr>\n",
       "    <tr>\n",
       "      <th>96542</th>\n",
       "      <td>-0.732789</td>\n",
       "      <td>-0.055080</td>\n",
       "      <td>2.035030</td>\n",
       "      <td>-0.738589</td>\n",
       "      <td>0.868229</td>\n",
       "      <td>1.058415</td>\n",
       "      <td>0.024330</td>\n",
       "      <td>0.294869</td>\n",
       "      <td>0.584800</td>\n",
       "      <td>-0.975926</td>\n",
       "      <td>...</td>\n",
       "      <td>0.214205</td>\n",
       "      <td>0.924384</td>\n",
       "      <td>0.012463</td>\n",
       "      <td>-1.016226</td>\n",
       "      <td>-0.606624</td>\n",
       "      <td>-0.395255</td>\n",
       "      <td>0.068472</td>\n",
       "      <td>-0.053527</td>\n",
       "      <td>0</td>\n",
       "      <td>-0.244190</td>\n",
       "    </tr>\n",
       "    <tr>\n",
       "      <th>96543</th>\n",
       "      <td>1.919565</td>\n",
       "      <td>-0.301254</td>\n",
       "      <td>-3.249640</td>\n",
       "      <td>-0.557828</td>\n",
       "      <td>2.630515</td>\n",
       "      <td>3.031260</td>\n",
       "      <td>-0.296827</td>\n",
       "      <td>0.708417</td>\n",
       "      <td>0.432454</td>\n",
       "      <td>-0.484782</td>\n",
       "      <td>...</td>\n",
       "      <td>0.232045</td>\n",
       "      <td>0.578229</td>\n",
       "      <td>-0.037501</td>\n",
       "      <td>0.640134</td>\n",
       "      <td>0.265745</td>\n",
       "      <td>-0.087371</td>\n",
       "      <td>0.004455</td>\n",
       "      <td>-0.026561</td>\n",
       "      <td>0</td>\n",
       "      <td>-0.075262</td>\n",
       "    </tr>\n",
       "    <tr>\n",
       "      <th>96544</th>\n",
       "      <td>-0.240440</td>\n",
       "      <td>0.530483</td>\n",
       "      <td>0.702510</td>\n",
       "      <td>0.689799</td>\n",
       "      <td>-0.377961</td>\n",
       "      <td>0.623708</td>\n",
       "      <td>-0.686180</td>\n",
       "      <td>0.679145</td>\n",
       "      <td>0.392087</td>\n",
       "      <td>-0.399126</td>\n",
       "      <td>...</td>\n",
       "      <td>0.265245</td>\n",
       "      <td>0.800049</td>\n",
       "      <td>-0.163298</td>\n",
       "      <td>0.123205</td>\n",
       "      <td>-0.569159</td>\n",
       "      <td>0.546668</td>\n",
       "      <td>0.108821</td>\n",
       "      <td>0.104533</td>\n",
       "      <td>0</td>\n",
       "      <td>-0.302172</td>\n",
       "    </tr>\n",
       "    <tr>\n",
       "      <th>96545</th>\n",
       "      <td>-0.533413</td>\n",
       "      <td>-0.189733</td>\n",
       "      <td>0.703337</td>\n",
       "      <td>-0.506271</td>\n",
       "      <td>-0.012546</td>\n",
       "      <td>-0.649617</td>\n",
       "      <td>1.577006</td>\n",
       "      <td>-0.414650</td>\n",
       "      <td>0.486180</td>\n",
       "      <td>-0.915427</td>\n",
       "      <td>...</td>\n",
       "      <td>0.261057</td>\n",
       "      <td>0.643078</td>\n",
       "      <td>0.376777</td>\n",
       "      <td>0.008797</td>\n",
       "      <td>-0.473649</td>\n",
       "      <td>-0.818267</td>\n",
       "      <td>-0.002415</td>\n",
       "      <td>0.013649</td>\n",
       "      <td>0</td>\n",
       "      <td>0.509342</td>\n",
       "    </tr>\n",
       "  </tbody>\n",
       "</table>\n",
       "<p>284807 rows × 30 columns</p>\n",
       "</div>"
      ],
      "text/plain": [
       "              V1         V2        V3        V4        V5        V6        V7  \\\n",
       "0      -1.359807  -0.072781  2.536347  1.378155 -0.338321  0.462388  0.239599   \n",
       "1       1.191857   0.266151  0.166480  0.448154  0.060018 -0.082361 -0.078803   \n",
       "2      -1.358354  -1.340163  1.773209  0.379780 -0.503198  1.800499  0.791461   \n",
       "3      -0.966272  -0.185226  1.792993 -0.863291 -0.010309  1.247203  0.237609   \n",
       "4      -1.158233   0.877737  1.548718  0.403034 -0.407193  0.095921  0.592941   \n",
       "...          ...        ...       ...       ...       ...       ...       ...   \n",
       "96541 -11.881118  10.071785 -9.834783 -2.066656 -5.364473 -2.606837 -4.918215   \n",
       "96542  -0.732789  -0.055080  2.035030 -0.738589  0.868229  1.058415  0.024330   \n",
       "96543   1.919565  -0.301254 -3.249640 -0.557828  2.630515  3.031260 -0.296827   \n",
       "96544  -0.240440   0.530483  0.702510  0.689799 -0.377961  0.623708 -0.686180   \n",
       "96545  -0.533413  -0.189733  0.703337 -0.506271 -0.012546 -0.649617  1.577006   \n",
       "\n",
       "             V8        V9       V10  ...       V21       V22       V23  \\\n",
       "0      0.098698  0.363787  0.090794  ... -0.018307  0.277838 -0.110474   \n",
       "1      0.085102 -0.255425 -0.166974  ... -0.225775 -0.638672  0.101288   \n",
       "2      0.247676 -1.514654  0.207643  ...  0.247998  0.771679  0.909412   \n",
       "3      0.377436 -1.387024 -0.054952  ... -0.108300  0.005274 -0.190321   \n",
       "4     -0.270533  0.817739  0.753074  ... -0.009431  0.798278 -0.137458   \n",
       "...         ...       ...       ...  ...       ...       ...       ...   \n",
       "96541  7.305334  1.914428  4.356170  ...  0.213454  0.111864  1.014480   \n",
       "96542  0.294869  0.584800 -0.975926  ...  0.214205  0.924384  0.012463   \n",
       "96543  0.708417  0.432454 -0.484782  ...  0.232045  0.578229 -0.037501   \n",
       "96544  0.679145  0.392087 -0.399126  ...  0.265245  0.800049 -0.163298   \n",
       "96545 -0.414650  0.486180 -0.915427  ...  0.261057  0.643078  0.376777   \n",
       "\n",
       "            V24       V25       V26       V27       V28  Class       Amt  \n",
       "0      0.066928  0.128539 -0.189115  0.133558 -0.021053      0  0.244887  \n",
       "1     -0.339846  0.167170  0.125895 -0.008983  0.014724      0 -0.348685  \n",
       "2     -0.689281 -0.327642 -0.139097 -0.055353 -0.059752      0  1.170169  \n",
       "3     -1.175575  0.647376 -0.221929  0.062723  0.061458      0  0.139366  \n",
       "4      0.141267 -0.206010  0.502292  0.219422  0.215153      0 -0.076805  \n",
       "...         ...       ...       ...       ...       ...    ...       ...  \n",
       "96541 -0.509348  1.436807  0.250034  0.943651  0.823731      0 -0.338357  \n",
       "96542 -1.016226 -0.606624 -0.395255  0.068472 -0.053527      0 -0.244190  \n",
       "96543  0.640134  0.265745 -0.087371  0.004455 -0.026561      0 -0.075262  \n",
       "96544  0.123205 -0.569159  0.546668  0.108821  0.104533      0 -0.302172  \n",
       "96545  0.008797 -0.473649 -0.818267 -0.002415  0.013649      0  0.509342  \n",
       "\n",
       "[284807 rows x 30 columns]"
      ]
     },
     "execution_count": 139,
     "metadata": {},
     "output_type": "execute_result"
    }
   ],
   "source": [
    "# Repeat the above with unsupervised approach\n",
    "\n",
    "trans"
   ]
  },
  {
   "cell_type": "code",
   "execution_count": 140,
   "id": "4e2690ba",
   "metadata": {},
   "outputs": [],
   "source": [
    "trans_X = trans[:200000]"
   ]
  },
  {
   "cell_type": "code",
   "execution_count": 141,
   "id": "a1f897fe",
   "metadata": {},
   "outputs": [],
   "source": [
    "trans_y = trans[200001:]"
   ]
  },
  {
   "cell_type": "raw",
   "id": "46625072",
   "metadata": {},
   "source": []
  },
  {
   "cell_type": "code",
   "execution_count": 146,
   "id": "c9eafa14",
   "metadata": {},
   "outputs": [
    {
     "name": "stderr",
     "output_type": "stream",
     "text": [
      "/Users/pauloleary/opt/miniconda3/envs/CAP_env/lib/python3.9/site-packages/sklearn/base.py:441: UserWarning: X does not have valid feature names, but IsolationForest was fitted with feature names\n",
      "  warnings.warn(\n"
     ]
    }
   ],
   "source": [
    "clf = IsolationForest(n_estimators = 500, max_features = 5)\n",
    "\n",
    "clf = clf.fit(trans_X)\n",
    "\n",
    "preds = clf.predict(trans_y)\n"
   ]
  },
  {
   "cell_type": "code",
   "execution_count": 147,
   "id": "982b452e",
   "metadata": {},
   "outputs": [
    {
     "data": {
      "text/plain": [
       "array([1, 1, 1, ..., 1, 1, 1])"
      ]
     },
     "execution_count": 147,
     "metadata": {},
     "output_type": "execute_result"
    }
   ],
   "source": [
    "preds"
   ]
  },
  {
   "cell_type": "code",
   "execution_count": 148,
   "id": "c3c34172",
   "metadata": {},
   "outputs": [
    {
     "name": "stdout",
     "output_type": "stream",
     "text": [
      "[(-1, 3557), (1, 81249)]\n"
     ]
    }
   ],
   "source": [
    "print(sorted(Counter(preds).items()))"
   ]
  },
  {
   "cell_type": "code",
   "execution_count": null,
   "id": "86ccb38e",
   "metadata": {},
   "outputs": [],
   "source": [
    "# Still way too many -1s"
   ]
  },
  {
   "cell_type": "code",
   "execution_count": null,
   "id": "22a70a23",
   "metadata": {},
   "outputs": [],
   "source": []
  },
  {
   "cell_type": "code",
   "execution_count": null,
   "id": "f60f22da",
   "metadata": {},
   "outputs": [],
   "source": [
    "display = PrecisionRecallDisplay.from_estimator(clf, X_test, y_test, name=\"RF - SMOTE-Tomek\")\n",
    "_ = display.ax_.set_title(\"Precision-Recall curve\")"
   ]
  }
 ],
 "metadata": {
  "kernelspec": {
   "display_name": "Python 3 (ipykernel)",
   "language": "python",
   "name": "python3"
  },
  "language_info": {
   "codemirror_mode": {
    "name": "ipython",
    "version": 3
   },
   "file_extension": ".py",
   "mimetype": "text/x-python",
   "name": "python",
   "nbconvert_exporter": "python",
   "pygments_lexer": "ipython3",
   "version": "3.9.7"
  }
 },
 "nbformat": 4,
 "nbformat_minor": 5
}
